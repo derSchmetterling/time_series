{
 "cells": [
  {
   "cell_type": "markdown",
   "metadata": {
    "_cell_guid": "0bf81eb9-8749-401f-9a2e-d58447256499",
    "_uuid": "e7de522614a7e048e788bc62b8752e95739fc20a"
   },
   "source": [
    "# Trabalho de Séries Temporais \n",
    "\n",
    "Participantes:\n",
    " - Koda\n",
    " - Juan Montanaro, 11912787\n",
    " - Caiçara\n",
    "\n",
    "\n",
    "## Tabela de conteúdos:\n",
    "* Competition and data overview\n",
    "* Imports ( data and packages )\n",
    "* Basic exploration/EDA\n",
    "* Single time-series \n",
    "    * Stationarity\n",
    "    * Seasonality , Trend and Remainder\n",
    "    * AR , MA , ARMA , ARIMA\n",
    "    * Selecting P and Q using AIC\n",
    "    * ETS\n",
    "    * Prophet \n",
    "    * UCM\n",
    "* Hierarchical time-series\n",
    "    * Bottom's up\n",
    "    * AHP\n",
    "    * PHA \n",
    "    * FP \n",
    "    \n",
    "    \n",
    "## Competition and data overview:\n",
    "\n",
    "In this playground competition, we are provided with the challenge of predicting total sales for every product and store in the next month for Russian Software company-[1c company](http://1c.ru/eng/title.htm). \n",
    "\n",
    "**What does the IC company do?:**\n",
    "\n",
    "1C: Enterprise 8 system of programs is intended for automation of everyday enterprise activities: various business tasks of economic and management activity, such as management accounting, business accounting, HR management, CRM, SRM, MRP, MRP, etc.\n",
    "\n",
    "**Data**:\n",
    "We are provided with daily sales data for each store-item combination, but our task is to predict sales at a monthly level.\n",
    "\n",
    "## Imports:\n"
   ]
  },
  {
   "cell_type": "code",
   "execution_count": 1,
   "metadata": {
<<<<<<< HEAD
=======
    "_cell_guid": "795bbe4b-51b2-42ec-810a-4f4c18c84f53",
    "_uuid": "e4eb15fdb1237ea12fda77b898eb315b00a205ce"
   },
   "outputs": [
    {
     "name": "stderr",
     "output_type": "stream",
     "text": [
      "'ls' não é reconhecido como um comando interno\n",
      "ou externo, um programa operável ou um arquivo em lotes.\n"
     ]
    }
   ],
   "source": [
    "# always start with checking out the files!\n",
    "!ls ../input/*"
   ]
  },
  {
   "cell_type": "code",
   "execution_count": 1,
   "metadata": {
>>>>>>> 1d09917b82cc267801426aa6984ffd332c019fb9
    "_cell_guid": "b1076dfc-b9ad-4769-8c92-a6c4dae69d19",
    "_uuid": "8f2839f25d086af736a60e9eeb907d3b93b6e0e5"
   },
   "outputs": [],
   "source": [
    "# Basic packages\n",
    "import zipfile as zf # manipulate zip files\n",
    "import numpy as np\n",
    "import pandas as pd\n",
    "import random as rd\n",
    "import datetime\n",
    "\n",
    "# Viz\n",
    "import matplotlib.pyplot as plt\n",
    "import seaborn as sns\n",
    "\n",
    "\n",
    "# TIME SERIES\n",
    "from statsmodels.tsa.arima_model import ARIMA\n",
    "from statsmodels.tsa.statespace.sarimax import SARIMAX\n",
    "from pandas.plotting import autocorrelation_plot\n",
    "from statsmodels.tsa.stattools import adfuller, acf, pacf, arma_order_select_ic\n",
    "import statsmodels.formula.api as smf\n",
    "import statsmodels.tsa.api as smt\n",
    "import statsmodels.api as sm\n",
    "import scipy.stats as scs\n",
    "\n",
    "\n",
    "# settings\n",
    "import warnings\n",
    "warnings.filterwarnings(\"ignore\")"
   ]
  },
  {
   "cell_type": "code",
<<<<<<< HEAD
   "execution_count": 6,
=======
   "execution_count": 9,
>>>>>>> 1d09917b82cc267801426aa6984ffd332c019fb9
   "metadata": {
    "_cell_guid": "6541e1a6-a353-4709-a1fa-730e0f2a308d",
    "_uuid": "debe15ae99f3596923efc37ce2f609920213be54",
    "jupyter": {
     "outputs_hidden": true
    }
   },
   "outputs": [],
   "source": [
<<<<<<< HEAD
    "# Import files\n",
    "unzip_fs = zf.ZipFile('competitive-data-science-predict-future-sales.zip', 'r')\n",
=======
    "# Import all of them \n",
    "sales=pd.read_csv(\"sales_train.csv\")\n",
    "sales = sales.sample(n = 1000, random_state = 42)\n",
>>>>>>> 1d09917b82cc267801426aa6984ffd332c019fb9
    "\n",
    "aux1 = unzip_fs.open('sales_train.csv', 'r')\n",
    "sales = pd.read_csv(aux1)\n",
    "aux1.close()\n",
    "\n",
<<<<<<< HEAD
    "aux2 = unzip_fs.open('items.csv', 'r')\n",
    "item = pd.read_csv(aux2)\n",
    "aux2.close()\n",
    "\n",
    "# We'll not import\n",
    "#item_cat = pd.read_csv(\"../input/item_categories.csv\")\n",
    "#sub = pd.read_csv(\"../input/sample_submission.csv\")\n",
    "#shops = pd.read_csv(\"../input/shops.csv\")\n",
    "#test = pd.read_csv(\"../input/test.csv\")"
=======
    "item_cat=pd.read_csv(\"item_categories.csv\")\n",
    "item=pd.read_csv(\"items.csv\")\n",
    "sub=pd.read_csv(\"sample_submission.csv\")\n",
    "shops=pd.read_csv(\"shops.csv\")\n",
    "test=pd.read_csv(\"test.csv\")"
>>>>>>> 1d09917b82cc267801426aa6984ffd332c019fb9
   ]
  },
  {
   "cell_type": "code",
<<<<<<< HEAD
   "execution_count": 7,
=======
   "execution_count": 10,
   "metadata": {},
   "outputs": [
    {
     "data": {
      "text/html": [
       "<div>\n",
       "<style scoped>\n",
       "    .dataframe tbody tr th:only-of-type {\n",
       "        vertical-align: middle;\n",
       "    }\n",
       "\n",
       "    .dataframe tbody tr th {\n",
       "        vertical-align: top;\n",
       "    }\n",
       "\n",
       "    .dataframe thead th {\n",
       "        text-align: right;\n",
       "    }\n",
       "</style>\n",
       "<table border=\"1\" class=\"dataframe\">\n",
       "  <thead>\n",
       "    <tr style=\"text-align: right;\">\n",
       "      <th></th>\n",
       "      <th>date</th>\n",
       "      <th>date_block_num</th>\n",
       "      <th>shop_id</th>\n",
       "      <th>item_id</th>\n",
       "      <th>item_price</th>\n",
       "      <th>item_cnt_day</th>\n",
       "    </tr>\n",
       "  </thead>\n",
       "  <tbody>\n",
       "    <tr>\n",
       "      <th>2472142</th>\n",
       "      <td>06.02.2015</td>\n",
       "      <td>25</td>\n",
       "      <td>31</td>\n",
       "      <td>11208</td>\n",
       "      <td>699.0</td>\n",
       "      <td>1.0</td>\n",
       "    </tr>\n",
       "    <tr>\n",
       "      <th>1044690</th>\n",
       "      <td>21.11.2013</td>\n",
       "      <td>10</td>\n",
       "      <td>31</td>\n",
       "      <td>19525</td>\n",
       "      <td>149.0</td>\n",
       "      <td>1.0</td>\n",
       "    </tr>\n",
       "    <tr>\n",
       "      <th>2367559</th>\n",
       "      <td>03.01.2015</td>\n",
       "      <td>24</td>\n",
       "      <td>42</td>\n",
       "      <td>16169</td>\n",
       "      <td>299.0</td>\n",
       "      <td>1.0</td>\n",
       "    </tr>\n",
       "    <tr>\n",
       "      <th>1793501</th>\n",
       "      <td>18.07.2014</td>\n",
       "      <td>18</td>\n",
       "      <td>42</td>\n",
       "      <td>2737</td>\n",
       "      <td>199.0</td>\n",
       "      <td>1.0</td>\n",
       "    </tr>\n",
       "    <tr>\n",
       "      <th>1585639</th>\n",
       "      <td>13.04.2014</td>\n",
       "      <td>15</td>\n",
       "      <td>2</td>\n",
       "      <td>15229</td>\n",
       "      <td>1199.0</td>\n",
       "      <td>1.0</td>\n",
       "    </tr>\n",
       "    <tr>\n",
       "      <th>...</th>\n",
       "      <td>...</td>\n",
       "      <td>...</td>\n",
       "      <td>...</td>\n",
       "      <td>...</td>\n",
       "      <td>...</td>\n",
       "      <td>...</td>\n",
       "    </tr>\n",
       "    <tr>\n",
       "      <th>98428</th>\n",
       "      <td>21.01.2013</td>\n",
       "      <td>0</td>\n",
       "      <td>50</td>\n",
       "      <td>19564</td>\n",
       "      <td>399.0</td>\n",
       "      <td>1.0</td>\n",
       "    </tr>\n",
       "    <tr>\n",
       "      <th>2322013</th>\n",
       "      <td>02.12.2014</td>\n",
       "      <td>23</td>\n",
       "      <td>25</td>\n",
       "      <td>7724</td>\n",
       "      <td>3199.0</td>\n",
       "      <td>1.0</td>\n",
       "    </tr>\n",
       "    <tr>\n",
       "      <th>184125</th>\n",
       "      <td>10.02.2013</td>\n",
       "      <td>1</td>\n",
       "      <td>31</td>\n",
       "      <td>19634</td>\n",
       "      <td>499.0</td>\n",
       "      <td>1.0</td>\n",
       "    </tr>\n",
       "    <tr>\n",
       "      <th>1566852</th>\n",
       "      <td>16.04.2014</td>\n",
       "      <td>15</td>\n",
       "      <td>25</td>\n",
       "      <td>9862</td>\n",
       "      <td>399.0</td>\n",
       "      <td>2.0</td>\n",
       "    </tr>\n",
       "    <tr>\n",
       "      <th>278839</th>\n",
       "      <td>21.03.2013</td>\n",
       "      <td>2</td>\n",
       "      <td>18</td>\n",
       "      <td>11391</td>\n",
       "      <td>899.0</td>\n",
       "      <td>1.0</td>\n",
       "    </tr>\n",
       "  </tbody>\n",
       "</table>\n",
       "<p>1000 rows × 6 columns</p>\n",
       "</div>"
      ],
      "text/plain": [
       "               date  date_block_num  shop_id  item_id  item_price  \\\n",
       "2472142  06.02.2015              25       31    11208       699.0   \n",
       "1044690  21.11.2013              10       31    19525       149.0   \n",
       "2367559  03.01.2015              24       42    16169       299.0   \n",
       "1793501  18.07.2014              18       42     2737       199.0   \n",
       "1585639  13.04.2014              15        2    15229      1199.0   \n",
       "...             ...             ...      ...      ...         ...   \n",
       "98428    21.01.2013               0       50    19564       399.0   \n",
       "2322013  02.12.2014              23       25     7724      3199.0   \n",
       "184125   10.02.2013               1       31    19634       499.0   \n",
       "1566852  16.04.2014              15       25     9862       399.0   \n",
       "278839   21.03.2013               2       18    11391       899.0   \n",
       "\n",
       "         item_cnt_day  \n",
       "2472142           1.0  \n",
       "1044690           1.0  \n",
       "2367559           1.0  \n",
       "1793501           1.0  \n",
       "1585639           1.0  \n",
       "...               ...  \n",
       "98428             1.0  \n",
       "2322013           1.0  \n",
       "184125            1.0  \n",
       "1566852           2.0  \n",
       "278839            1.0  \n",
       "\n",
       "[1000 rows x 6 columns]"
      ]
     },
     "execution_count": 10,
     "metadata": {},
     "output_type": "execute_result"
    }
   ],
   "source": [
    "sales"
   ]
  },
  {
   "cell_type": "code",
   "execution_count": 11,
>>>>>>> 1d09917b82cc267801426aa6984ffd332c019fb9
   "metadata": {
    "_cell_guid": "dc6fc0f9-45a9-4146-b88d-d4bddcb224b2",
    "_uuid": "8e1875bb64b6efc577e8b121217e2ded20ea9ce9"
   },
   "outputs": [
    {
     "name": "stdout",
     "output_type": "stream",
     "text": [
      "<class 'pandas.core.frame.DataFrame'>\n",
<<<<<<< HEAD
      "RangeIndex: 2935849 entries, 0 to 2935848\n",
      "Data columns (total 6 columns):\n",
      " #   Column          Dtype         \n",
      "---  ------          -----         \n",
      " 0   date            datetime64[ns]\n",
      " 1   date_block_num  int64         \n",
      " 2   shop_id         int64         \n",
      " 3   item_id         int64         \n",
      " 4   item_price      float64       \n",
      " 5   item_cnt_day    float64       \n",
      "dtypes: datetime64[ns](1), float64(2), int64(3)\n",
      "memory usage: 134.4 MB\n",
=======
      "Int64Index: 1000 entries, 2472142 to 278839\n",
      "Data columns (total 6 columns):\n",
      " #   Column          Non-Null Count  Dtype         \n",
      "---  ------          --------------  -----         \n",
      " 0   date            1000 non-null   datetime64[ns]\n",
      " 1   date_block_num  1000 non-null   int64         \n",
      " 2   shop_id         1000 non-null   int64         \n",
      " 3   item_id         1000 non-null   int64         \n",
      " 4   item_price      1000 non-null   float64       \n",
      " 5   item_cnt_day    1000 non-null   float64       \n",
      "dtypes: datetime64[ns](1), float64(2), int64(3)\n",
      "memory usage: 54.7 KB\n",
>>>>>>> 1d09917b82cc267801426aa6984ffd332c019fb9
      "None\n"
     ]
    }
   ],
   "source": [
<<<<<<< HEAD
    "# formatting the date column correctly\n",
    "sales.date=sales.date.apply(lambda x:datetime.datetime.strptime(x, '%d.%m.%Y'))\n",
    "# check\n",
    "sales.info()"
=======
    "#formatando a coluna de data\n",
    "sales.date=sales.date.apply(lambda x:datetime.datetime.strptime(x, '%d.%m.%Y'))\n",
    "print(sales.info())"
>>>>>>> 1d09917b82cc267801426aa6984ffd332c019fb9
   ]
  },
  {
   "cell_type": "code",
<<<<<<< HEAD
   "execution_count": 8,
=======
   "execution_count": 12,
>>>>>>> 1d09917b82cc267801426aa6984ffd332c019fb9
   "metadata": {
    "_cell_guid": "dd800a06-41f7-41d2-a402-80ef2cc4ed2d",
    "_uuid": "0ca7c39c5544de1888d111db2450010f85f1a099",
    "jupyter": {
     "outputs_hidden": true
    }
   },
   "outputs": [],
   "source": [
    "# Aggregate to monthly level the required metrics\n",
    "# agregando as métricas por meses\n",
    "\n",
    "monthly_sales=sales.groupby([\"date_block_num\",\"shop_id\",\"item_id\"])[\n",
    "    \"date\",\"item_price\",\"item_cnt_day\"].agg({\"date\":[\"min\",'max'],\"item_price\":\"mean\",\"item_cnt_day\":\"sum\"})\n",
    "\n",
    "## Lets break down the line of code here:\n",
    "# aggregate by date-block(month),shop_id and item_id\n",
    "# select the columns date,item_price and item_cnt(sales)\n",
    "# Provide a dictionary which says what aggregation to perform on which column\n",
    "# min and max on the date\n",
    "# average of the item_price\n",
    "# sum of the sales"
   ]
  },
  {
   "cell_type": "code",
<<<<<<< HEAD
   "execution_count": 10,
=======
   "execution_count": 24,
>>>>>>> 1d09917b82cc267801426aa6984ffd332c019fb9
   "metadata": {
    "_cell_guid": "986b9168-860f-4ae0-8ed7-c42cb65837fb",
    "_uuid": "3d689df5658dfa3bfbfe531488844a9fdd31d804"
   },
   "outputs": [
    {
     "data": {
      "text/html": [
       "<div>\n",
       "<style scoped>\n",
       "    .dataframe tbody tr th:only-of-type {\n",
       "        vertical-align: middle;\n",
       "    }\n",
       "\n",
       "    .dataframe tbody tr th {\n",
       "        vertical-align: top;\n",
       "    }\n",
       "\n",
       "    .dataframe thead tr th {\n",
       "        text-align: left;\n",
       "    }\n",
       "\n",
       "    .dataframe thead tr:last-of-type th {\n",
       "        text-align: right;\n",
       "    }\n",
       "</style>\n",
       "<table border=\"1\" class=\"dataframe\">\n",
       "  <thead>\n",
       "    <tr>\n",
       "      <th></th>\n",
       "      <th></th>\n",
       "      <th></th>\n",
       "      <th colspan=\"2\" halign=\"left\">date</th>\n",
       "      <th>item_price</th>\n",
       "      <th>item_cnt_day</th>\n",
       "    </tr>\n",
       "    <tr>\n",
       "      <th></th>\n",
       "      <th></th>\n",
       "      <th></th>\n",
       "      <th>min</th>\n",
       "      <th>max</th>\n",
       "      <th>mean</th>\n",
       "      <th>sum</th>\n",
       "    </tr>\n",
       "    <tr>\n",
       "      <th>date_block_num</th>\n",
       "      <th>shop_id</th>\n",
       "      <th>item_id</th>\n",
       "      <th></th>\n",
       "      <th></th>\n",
       "      <th></th>\n",
       "      <th></th>\n",
       "    </tr>\n",
       "  </thead>\n",
       "  <tbody>\n",
       "    <tr>\n",
<<<<<<< HEAD
       "      <th rowspan=\"10\" valign=\"top\">0</th>\n",
       "      <th rowspan=\"10\" valign=\"top\">0</th>\n",
       "      <th>32</th>\n",
       "      <td>2013-01-03</td>\n",
       "      <td>2013-01-31</td>\n",
       "      <td>221.0</td>\n",
       "      <td>6.0</td>\n",
       "    </tr>\n",
       "    <tr>\n",
       "      <th>33</th>\n",
       "      <td>2013-01-03</td>\n",
       "      <td>2013-01-28</td>\n",
       "      <td>347.0</td>\n",
       "      <td>3.0</td>\n",
       "    </tr>\n",
       "    <tr>\n",
       "      <th>35</th>\n",
       "      <td>2013-01-31</td>\n",
       "      <td>2013-01-31</td>\n",
       "      <td>247.0</td>\n",
       "      <td>1.0</td>\n",
       "    </tr>\n",
       "    <tr>\n",
       "      <th>43</th>\n",
       "      <td>2013-01-31</td>\n",
       "      <td>2013-01-31</td>\n",
       "      <td>221.0</td>\n",
       "      <td>1.0</td>\n",
       "    </tr>\n",
       "    <tr>\n",
       "      <th>51</th>\n",
       "      <td>2013-01-13</td>\n",
       "      <td>2013-01-31</td>\n",
       "      <td>128.5</td>\n",
       "      <td>2.0</td>\n",
       "    </tr>\n",
       "    <tr>\n",
       "      <th>61</th>\n",
       "      <td>2013-01-10</td>\n",
       "      <td>2013-01-10</td>\n",
       "      <td>195.0</td>\n",
       "      <td>1.0</td>\n",
       "    </tr>\n",
       "    <tr>\n",
       "      <th>75</th>\n",
       "      <td>2013-01-17</td>\n",
       "      <td>2013-01-17</td>\n",
       "      <td>76.0</td>\n",
       "      <td>1.0</td>\n",
       "    </tr>\n",
       "    <tr>\n",
       "      <th>88</th>\n",
       "      <td>2013-01-16</td>\n",
       "      <td>2013-01-16</td>\n",
       "      <td>76.0</td>\n",
       "      <td>1.0</td>\n",
       "    </tr>\n",
       "    <tr>\n",
       "      <th>95</th>\n",
       "      <td>2013-01-06</td>\n",
       "      <td>2013-01-06</td>\n",
       "      <td>193.0</td>\n",
       "      <td>1.0</td>\n",
       "    </tr>\n",
       "    <tr>\n",
       "      <th>96</th>\n",
       "      <td>2013-01-10</td>\n",
       "      <td>2013-01-10</td>\n",
       "      <td>70.0</td>\n",
=======
       "      <th rowspan=\"20\" valign=\"top\">0</th>\n",
       "      <th>0</th>\n",
       "      <th>13425</th>\n",
       "      <td>2013-01-30</td>\n",
       "      <td>2013-01-30</td>\n",
       "      <td>12237.0</td>\n",
       "      <td>1.0</td>\n",
       "    </tr>\n",
       "    <tr>\n",
       "      <th>1</th>\n",
       "      <th>12783</th>\n",
       "      <td>2013-01-22</td>\n",
       "      <td>2013-01-22</td>\n",
       "      <td>226.0</td>\n",
       "      <td>1.0</td>\n",
       "    </tr>\n",
       "    <tr>\n",
       "      <th>3</th>\n",
       "      <th>12058</th>\n",
       "      <td>2013-01-11</td>\n",
       "      <td>2013-01-11</td>\n",
       "      <td>149.0</td>\n",
       "      <td>1.0</td>\n",
       "    </tr>\n",
       "    <tr>\n",
       "      <th rowspan=\"4\" valign=\"top\">6</th>\n",
       "      <th>2973</th>\n",
       "      <td>2013-01-19</td>\n",
       "      <td>2013-01-19</td>\n",
       "      <td>2499.0</td>\n",
       "      <td>2.0</td>\n",
       "    </tr>\n",
       "    <tr>\n",
       "      <th>3554</th>\n",
       "      <td>2013-01-15</td>\n",
       "      <td>2013-01-15</td>\n",
       "      <td>2199.0</td>\n",
       "      <td>1.0</td>\n",
       "    </tr>\n",
       "    <tr>\n",
       "      <th>7860</th>\n",
       "      <td>2013-01-29</td>\n",
       "      <td>2013-01-29</td>\n",
       "      <td>399.0</td>\n",
       "      <td>2.0</td>\n",
       "    </tr>\n",
       "    <tr>\n",
       "      <th>15098</th>\n",
       "      <td>2013-01-24</td>\n",
       "      <td>2013-01-24</td>\n",
       "      <td>349.0</td>\n",
       "      <td>1.0</td>\n",
       "    </tr>\n",
       "    <tr>\n",
       "      <th>8</th>\n",
       "      <th>8742</th>\n",
       "      <td>2013-01-10</td>\n",
       "      <td>2013-01-10</td>\n",
       "      <td>299.0</td>\n",
       "      <td>1.0</td>\n",
       "    </tr>\n",
       "    <tr>\n",
       "      <th>10</th>\n",
       "      <th>16874</th>\n",
       "      <td>2013-01-07</td>\n",
       "      <td>2013-01-07</td>\n",
       "      <td>79.0</td>\n",
       "      <td>1.0</td>\n",
       "    </tr>\n",
       "    <tr>\n",
       "      <th>12</th>\n",
       "      <th>7081</th>\n",
       "      <td>2013-01-09</td>\n",
       "      <td>2013-01-09</td>\n",
       "      <td>449.0</td>\n",
       "      <td>2.0</td>\n",
       "    </tr>\n",
       "    <tr>\n",
       "      <th rowspan=\"3\" valign=\"top\">15</th>\n",
       "      <th>12184</th>\n",
       "      <td>2013-01-23</td>\n",
       "      <td>2013-01-23</td>\n",
       "      <td>539.0</td>\n",
       "      <td>1.0</td>\n",
       "    </tr>\n",
       "    <tr>\n",
       "      <th>18423</th>\n",
       "      <td>2013-01-17</td>\n",
       "      <td>2013-01-17</td>\n",
       "      <td>199.0</td>\n",
       "      <td>1.0</td>\n",
       "    </tr>\n",
       "    <tr>\n",
       "      <th>20946</th>\n",
       "      <td>2013-01-19</td>\n",
       "      <td>2013-01-19</td>\n",
       "      <td>449.0</td>\n",
       "      <td>1.0</td>\n",
       "    </tr>\n",
       "    <tr>\n",
       "      <th rowspan=\"2\" valign=\"top\">16</th>\n",
       "      <th>11389</th>\n",
       "      <td>2013-01-04</td>\n",
       "      <td>2013-01-04</td>\n",
       "      <td>899.0</td>\n",
       "      <td>2.0</td>\n",
       "    </tr>\n",
       "    <tr>\n",
       "      <th>15978</th>\n",
       "      <td>2013-01-19</td>\n",
       "      <td>2013-01-19</td>\n",
       "      <td>140.0</td>\n",
       "      <td>1.0</td>\n",
       "    </tr>\n",
       "    <tr>\n",
       "      <th>19</th>\n",
       "      <th>15094</th>\n",
       "      <td>2013-01-02</td>\n",
       "      <td>2013-01-02</td>\n",
       "      <td>459.0</td>\n",
       "      <td>1.0</td>\n",
       "    </tr>\n",
       "    <tr>\n",
       "      <th rowspan=\"3\" valign=\"top\">22</th>\n",
       "      <th>3159</th>\n",
       "      <td>2013-01-28</td>\n",
       "      <td>2013-01-28</td>\n",
       "      <td>790.0</td>\n",
       "      <td>1.0</td>\n",
       "    </tr>\n",
       "    <tr>\n",
       "      <th>3468</th>\n",
       "      <td>2013-01-29</td>\n",
       "      <td>2013-01-29</td>\n",
       "      <td>149.0</td>\n",
       "      <td>1.0</td>\n",
       "    </tr>\n",
       "    <tr>\n",
       "      <th>13854</th>\n",
       "      <td>2013-01-03</td>\n",
       "      <td>2013-01-03</td>\n",
       "      <td>599.0</td>\n",
       "      <td>1.0</td>\n",
       "    </tr>\n",
       "    <tr>\n",
       "      <th>24</th>\n",
       "      <th>4688</th>\n",
       "      <td>2013-01-14</td>\n",
       "      <td>2013-01-14</td>\n",
       "      <td>1499.0</td>\n",
>>>>>>> 1d09917b82cc267801426aa6984ffd332c019fb9
       "      <td>1.0</td>\n",
       "    </tr>\n",
       "  </tbody>\n",
       "</table>\n",
       "</div>"
      ],
      "text/plain": [
       "                                     date            item_price item_cnt_day\n",
       "                                      min        max       mean          sum\n",
       "date_block_num shop_id item_id                                              \n",
<<<<<<< HEAD
       "0              0       32      2013-01-03 2013-01-31      221.0          6.0\n",
       "                       33      2013-01-03 2013-01-28      347.0          3.0\n",
       "                       35      2013-01-31 2013-01-31      247.0          1.0\n",
       "                       43      2013-01-31 2013-01-31      221.0          1.0\n",
       "                       51      2013-01-13 2013-01-31      128.5          2.0\n",
       "                       61      2013-01-10 2013-01-10      195.0          1.0\n",
       "                       75      2013-01-17 2013-01-17       76.0          1.0\n",
       "                       88      2013-01-16 2013-01-16       76.0          1.0\n",
       "                       95      2013-01-06 2013-01-06      193.0          1.0\n",
       "                       96      2013-01-10 2013-01-10       70.0          1.0"
      ]
     },
     "execution_count": 10,
=======
       "0              0       13425   2013-01-30 2013-01-30    12237.0          1.0\n",
       "               1       12783   2013-01-22 2013-01-22      226.0          1.0\n",
       "               3       12058   2013-01-11 2013-01-11      149.0          1.0\n",
       "               6       2973    2013-01-19 2013-01-19     2499.0          2.0\n",
       "                       3554    2013-01-15 2013-01-15     2199.0          1.0\n",
       "                       7860    2013-01-29 2013-01-29      399.0          2.0\n",
       "                       15098   2013-01-24 2013-01-24      349.0          1.0\n",
       "               8       8742    2013-01-10 2013-01-10      299.0          1.0\n",
       "               10      16874   2013-01-07 2013-01-07       79.0          1.0\n",
       "               12      7081    2013-01-09 2013-01-09      449.0          2.0\n",
       "               15      12184   2013-01-23 2013-01-23      539.0          1.0\n",
       "                       18423   2013-01-17 2013-01-17      199.0          1.0\n",
       "                       20946   2013-01-19 2013-01-19      449.0          1.0\n",
       "               16      11389   2013-01-04 2013-01-04      899.0          2.0\n",
       "                       15978   2013-01-19 2013-01-19      140.0          1.0\n",
       "               19      15094   2013-01-02 2013-01-02      459.0          1.0\n",
       "               22      3159    2013-01-28 2013-01-28      790.0          1.0\n",
       "                       3468    2013-01-29 2013-01-29      149.0          1.0\n",
       "                       13854   2013-01-03 2013-01-03      599.0          1.0\n",
       "               24      4688    2013-01-14 2013-01-14     1499.0          1.0"
      ]
     },
     "execution_count": 24,
>>>>>>> 1d09917b82cc267801426aa6984ffd332c019fb9
     "metadata": {},
     "output_type": "execute_result"
    }
   ],
   "source": [
    "# take a peak\n",
    "monthly_sales.head(10)"
   ]
  },
  {
   "cell_type": "code",
   "execution_count": 12,
   "metadata": {
    "_cell_guid": "c8e0a7f3-9a16-46e0-aae3-273fe0f21d0e",
    "_uuid": "a051b790a453f6e28632435a6c30efae02538113"
   },
   "outputs": [
    {
     "data": {
      "image/png": "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",
      "text/plain": [
       "<Figure size 648x504 with 1 Axes>"
      ]
     },
     "metadata": {
      "needs_background": "light"
     },
     "output_type": "display_data"
    }
   ],
   "source": [
    "# number of items per cat \n",
    "x=item.groupby(['item_category_id']).count()\n",
    "x=x.sort_values(by='item_id',ascending=False)\n",
    "x=x.iloc[0:10].reset_index()\n",
    "\n",
    "# plot\n",
    "plt.figure(figsize=(9,7))\n",
    "\n",
    "ax= sns.barplot(x.item_category_id, x.item_id, alpha=0.8)\n",
    "plt.title(\"Items per Category\")\n",
    "plt.ylabel('# of items', fontsize=12)\n",
    "plt.xlabel('Category', fontsize=12)\n",
    "plt.show()"
   ]
  },
  {
   "cell_type": "markdown",
   "metadata": {
    "_cell_guid": "68d378e2-2302-4381-8423-ede818fce32e",
    "_uuid": "8dadea026ac25a550cb6725894e1117c67e88757"
   },
   "source": [
    "Of course, there is a lot more that we can explore in this dataset, but let's dive into the time-series part.\n",
    "\n",
    "# Single series:\n",
    "\n",
    "The objective requires us to predict sales for the next month at a store-item combination.\n",
    "\n",
    "Sales over time of each store-item is a time-series in itself. Before we dive into all the combinations, first let's understand how to forecast for a single series.\n",
    "\n",
    "I've chosen to predict for the total sales per month for the entire company.\n",
    "\n",
    "First let's compute the total sales per month and plot that data.\n"
   ]
  },
  {
<<<<<<< HEAD
   "cell_type": "code",
   "execution_count": 15,
   "metadata": {
    "_cell_guid": "a783e367-da29-47fd-97be-f3ff756f32fe",
    "_uuid": "95eaf40635366294662b228680cb6e425940c7db"
   },
   "outputs": [
    {
     "data": {
      "image/png": "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",
      "text/plain": [
       "<Figure size 1080x504 with 1 Axes>"
      ]
     },
     "metadata": {
      "needs_background": "light"
     },
     "output_type": "display_data"
    }
   ],
   "source": [
    "ts=sales.groupby([\"date_block_num\"])[\"item_cnt_day\"].sum()\n",
    "ts.astype('float')\n",
    "\n",
    "plt.figure(figsize=(15,7))\n",
    "plt.title('Total Sales of the company')\n",
    "plt.xlabel('Time')\n",
    "plt.ylabel('Sales')\n",
    "plt.plot(ts)\n",
    "plt.show()"
=======
   "cell_type": "markdown",
   "metadata": {},
   "source": [
    "Queremos construir um modelo capaz de predizer o total de vendas por mês de toda a companhia."
>>>>>>> 1d09917b82cc267801426aa6984ffd332c019fb9
   ]
  },
  {
   "cell_type": "code",
<<<<<<< HEAD
   "execution_count": 17,
=======
   "execution_count": 26,
   "metadata": {
    "_cell_guid": "a783e367-da29-47fd-97be-f3ff756f32fe",
    "_uuid": "95eaf40635366294662b228680cb6e425940c7db"
   },
   "outputs": [
    {
     "data": {
      "image/png": "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\n",
      "text/plain": [
       "<Figure size 1152x576 with 1 Axes>"
      ]
     },
     "metadata": {
      "needs_background": "light"
     },
     "output_type": "display_data"
    }
   ],
   "source": [
    "ts=sales.groupby([\"date_block_num\"])[\"item_cnt_day\"].sum()\n",
    "ts.astype('float')\n",
    "plt.figure(figsize=(16,8))\n",
    "plt.title('Total de Vendas')\n",
    "plt.xlabel('Tempo(mês)')\n",
    "plt.ylabel('Vendas')\n",
    "plt.plot(ts);"
   ]
  },
  {
   "cell_type": "markdown",
   "metadata": {},
   "source": [
    "Percebe a provável presença de sazonalidade na série, visto que temos picos semelhantemente espaçados em toda sua duração. Além disso, como as vendas parecem diminuir com o tempo, notamos também uma tendência decrescente."
   ]
  },
  {
   "cell_type": "code",
   "execution_count": 28,
>>>>>>> 1d09917b82cc267801426aa6984ffd332c019fb9
   "metadata": {
    "_cell_guid": "b98fb1f6-f3a2-434f-94c6-af01f3ffdfd4",
    "_uuid": "bee64faeaacd2f60ff85ac8d2b61eea4e80afda8"
   },
   "outputs": [
    {
     "data": {
<<<<<<< HEAD
      "image/png": "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",
      "text/plain": [
       "<Figure size 1080x504 with 1 Axes>"
=======
      "image/png": "iVBORw0KGgoAAAANSUhEUgAAA54AAAFnCAYAAADOjZYfAAAAOXRFWHRTb2Z0d2FyZQBNYXRwbG90bGliIHZlcnNpb24zLjUuMSwgaHR0cHM6Ly9tYXRwbG90bGliLm9yZy/YYfK9AAAACXBIWXMAAAsTAAALEwEAmpwYAABHLklEQVR4nO3deXxcV33///fRzGjfV8u2ZEvebVnendgJsZOQhSyFkBKWkhhKE/iW8KMthaZsCW0pgUDL0kCbNA2BQkLAoUAcaBOHkJDFju043hNv8ipb+77Ncn5/3KvNli3Z0tVopNfz8biPmTlzZ3RkjUd6z+csxlorAAAAAAC8EhftDgAAAAAAxjeCJwAAAADAUwRPAAAAAICnCJ4AAAAAAE8RPAEAAAAAniJ4AgAAAAA8NeTgaYzxGWPeMMY87d6+zxhzwhiz3T1u8K6bAAAAAIBY5b+Acz8taa+k9D5t/2qt/ebIdgkAAAAAMJ4MKXgaY6ZKulHSVyX9zcV+sdzcXDt9+vSLfTgAAAAAYAzbunVrjbU278z2oVY8vy3pc5LSzmi/2xhzh6Qtkj5jra0/35NMnz5dW7ZsGeKXBAAAAADEEmPMkYHaB53jaYy5SVKVtXbrGXf9QNIMSYslVUr61jkef5cxZosxZkt1dfUFdRoAAAAAEPuGsrjQZZL+xBhTIekJSVcZY/7bWnvaWhu21kYkPSxp5UAPttY+ZK1dbq1dnpd3VsUVAAAAADDODRo8rbV/b62daq2dLukDkp631n7YGFPY57RbJO3yqI8AAAAAgBh2IavanukbxpjFkqykCkkfH4kOAQAAAMBAgsGgjh8/ro6Ojmh3ZcJLTEzU1KlTFQgEhnT+BQVPa+0Lkl5wr99+oZ0DAAAAgIt1/PhxpaWlafr06TLGRLs7E5a1VrW1tTp+/LhKSkqG9JihzPEEAAAAgKjr6OhQTk4OoTPKjDHKycm5oMozwRMAAABAzCB0jg0X+nMgeAIAAADAEPl8Pi1evFhlZWW6+eab1dDQcN7zP/KRj+gXv/iFJGnt2rXasmWLJOmGG24Y9LFDUVFRIWOMvvSlL/W01dTUKBAI6O677x72848UgicAAAAADFFSUpK2b9+uXbt2KTs7Ww8++OBFPc8zzzyjzMzMEelTaWmpnn766Z7bP//5z7VgwYIRee6RQvAEAAAAgIuwatUqnThxQpK0fft2XXrppSovL9ctt9yi+vr68z52+vTpqqmpUUVFhebNm6c777xTCxYs0LXXXqv29nZJ0uuvv67y8nKtWrVKn/3sZ1VWVjbgcyUlJWnevHk91dSf/exnuu2223rur66u1q233qoVK1ZoxYoVevnllyVJmzdv1urVq7VkyRKtXr1ab731liTphz/8od773vfq+uuv16xZs/S5z31ueP9QGt52KgAAAAAQFV/5zW7tOdk0os85f3K67r15aJXCcDisjRs36mMf+5gk6Y477tD3vvc9rVmzRl/+8pf1la98Rd/+9reH9Fz79+/X448/rocffli33Xab1q9frw9/+MP66Ec/qoceekirV6/WPffcc97n+MAHPqAnnnhCkyZNks/n0+TJk3Xy5ElJ0qc//Wn99V//tS6//HIdPXpU1113nfbu3au5c+fqxRdflN/v13PPPafPf/7zWr9+vSQnSL/xxhtKSEjQnDlz9KlPfUpFRUVD+n4GQvB0BcMR/d/u07pybp6S4/lnAQAAAHC29vZ2LV68WBUVFVq2bJmuueYaNTY2qqGhQWvWrJEkrVu3Tu973/uG/JwlJSVavHixJGnZsmWqqKhQQ0ODmpubtXr1aknShz70oX7Dac90/fXX60tf+pIKCgr0/ve/v999zz33nPbs2dNzu6mpSc3NzWpsbNS6deu0f/9+GWMUDAZ7zrn66quVkZEhSZo/f76OHDlC8BwJrx2q1Sd/uk2JgThdPbdAN5YX6so5+UqK90W7awAAAADOMNTK5EjrnuPZ2Niom266SQ8++KDWrVs3rOdMSEjoue7z+dTe3i5r7QU9R3x8vJYtW6Zvfetb2r17t37zm9/03BeJRPTqq68qKSmp32M+9alP6corr9Qvf/lLVVRUaO3atefsUygUusDvqj/meLpWz8jVE3ddqvctK9Kmw7X6y59s09J/fFZ3/3SbfrerUh3BcLS7CAAAAGCMyMjI0He/+11985vfVHJysrKysvTSSy9Jkn784x/3VD8vVlZWltLS0vTaa69Jkp544olBH/OZz3xGX//615WTk9Ov/dprr9W//du/9dzevn27JKmxsVFTpkyR5Mzr9BIVT5cvzujS0hxdWpqj+/5kgTYdrtWGHZX63a5TenpHpVLifbp6nlMJXTM7T4kBKqEAAADARLZkyRItWrRITzzxhB577DF94hOfUFtbm0pLS/Xoo48O+/kfeeQR3XnnnUpJSdHatWt7hr6ey4IFCwZczfa73/2uPvnJT6q8vFyhUEhXXHGF/v3f/12f+9zntG7dOv3Lv/yLrrrqqmH393zMhZZwh2P58uW2e6WlWBEKR7TpcJ2e3lGp3+2qVH1bUKkJfl0zv0A3LizUO2bnKsFPCAUAAAC8tnfvXs2bNy/a3Rg1LS0tSk1NlSTdf//9qqys1He+850o96rXQD8PY8xWa+3yM8+l4jkIvy9Ol83M1WUzc/UP716gVw+6ldDdp/TLN04oLcGvaxYU6KbyQl0+M0/xfkYvAwAAABi+DRs26Gtf+5pCoZCmTZvm+XBYL1HxvEjBcEQvH6jRhh2V+t/dp9TUEVJ6ol/XLpikG8sLddmMXEIoAAAAMIImWsVzrKPiOQoCvjitnZOvtXPy9dVbFurlAzV62g2hv9h6XBlJAV23oEA3lk/W6hk5CvgIoQAAAAAmJoLnCIj3x+nKufm6cm6+OkNl+uN+pxL6zM5TenLLcWUmB3S9WwldVZojPyEUAAAAwARC8BxhCX5n9dur5xWoIxjWS/trtGHHSf3mzZN64vVjyk6J1/Vlk3TTwkKtLMkmhAIAAAAY9wieHkoM+HTN/AJdM98JoS+8Va0NOyv1P2+c0E83HVVuqhNCb1w4WStLsuWLM9HuMgAAAACMOMptoyQx4NP1ZZP0vQ8u0dYvXqMf/NlSXVKao/VbT+iDD7+mS/55o778q13adKhW4cjoLfgEAAAAYOh8Pp8WL16ssrIy3XzzzWpoaDjv+R/5yEf0i1/8QpK0du1adS+2esMNNwz62JHywx/+UHffffeofK1zoeIZBUnxPr1rYaHetbBQbV0h/X5ftTbsPKkntxzTj149ovy0BN2wsFA3lhdqWXGW4qiEAgAAAGNCUlKStm/fLklat26dHnzwQX3hC1+44Od55plnRrhnYxsVzyhLjvfrxvJCff/PlmnrF6/R9z64REuLs/T45qN637+/qsu//rx+9vpRqqAAAADAGLNq1SqdOHFCkrR9+3ZdeumlKi8v1y233KL6+vrzPnb69OmqqalRRUWF5s2bpzvvvFMLFizQtddeq/b2dknS66+/rvLycq1atUqf/exnVVZWdtbzVFZW6oorruipwr700kuSpEcffVSzZ8/WmjVr9PLLL4/wd37hqHiOISkJft28aLJuXjRZLZ0hbdx7Wo+9UqG/W79Tj75coS/cOE/vmJUX7W4CAAAA0ffbe6RTO0f2OSctlN51/5BODYfD2rhxoz72sY9Jku644w5973vf05o1a/TlL39ZX/nKV/Ttb397SM+1f/9+Pf7443r44Yd12223af369frwhz+sj370o3rooYe0evVq3XPPPQM+9qc//amuu+46feELX1A4HFZbW5sqKyt17733auvWrcrIyNCVV16pJUuWDKkvXqHiOUalJvj17sVTtP7/rda/fWiJWrtCuv2Rzfroo5u1/3RztLsHAAAATEjt7e1avHixcnJyVFdXp2uuuUaNjY1qaGjQmjVrJDlDcF988cUhP2dJSYkWL14sSVq2bJkqKirU0NCg5uZmrV69WpL0oQ99aMDHrlixQo8++qjuu+8+7dy5U2lpadq0aZPWrl2rvLw8xcfH6/3vf//wvukRQMVzjDPG6KbyybpmfoEee6VC33v+gK7/zkv64Moi/dU7Zys3NSHaXQQAAABG3xArkyOte45nY2OjbrrpJj344INat27dsJ4zIaH3b3qfz6f29nZZO7SpdldccYVefPFFbdiwQbfffrs++9nPKj09XcaMrXViqHjGiAS/T3ddMUN/+OyV+vAlxXp88zGtfeAFff+FA+oIhqPdPQAAAGBCycjI0He/+11985vfVHJysrKysnrmV/74xz/uqX5erKysLKWlpem1116TJD3xxBMDnnfkyBHl5+frzjvv1Mc+9jFt27ZNl1xyiV544QXV1tYqGAzq5z//+bD6MhKoeMaY7JR4feXdZbp91XTd/9u9+sbv3tJPXjuqv3vXXN1cXjjmPtkAAAAAxqslS5Zo0aJFeuKJJ/TYY4/pE5/4hNra2lRaWqpHH3102M//yCOP6M4771RKSorWrl2rjIyMs8554YUX9MADDygQCCg1NVU/+tGPVFhYqPvuu0+rVq1SYWGhli5dqnA4usUqM9QS7khYvny57d63BiPjlQM1+qcNe7WnskmLizL1pZvmadm07Gh3CwAAABhxe/fu1bx586LdjVHT0tKi1NRUSdL999+vyspKfec734lyr3oN9PMwxmy11i4/81yG2sa41TNz9ZtPXa4H/rRcJxvadesPXtUnf7JNR2vbot01AAAAAMOwYcOGftukfPGLX4x2ly4aFc9xpK0rpIdePKT/+MMhhSNWH7lsuj555UxlJAWi3TUAAABg2CZaxXOso+I5QSXH+/VX75ytFz67Vu9ePFkPv3RIax/4vR57pULBcCTa3QMAAAAwQRE8x6GC9EQ98L5FevpTl2teYbru/fVuXfftF/XsntNDXpYZAAAAGIv4e3ZsuNCfA8FzHFswOUM/+YtL9J93OJXuO3+0RR96eJN2nWiMcs8AAACAC5eYmKja2lrCZ5RZa1VbW6vExMQhP4Y5nhNEMBzR45uP6l+ffVsN7UHdunSq/vbaOZqUMfQXCwAAABBNwWBQx48fV0dHR7S7MuElJiZq6tSpCgT6rydzrjmeBM8JprE9qO///oAefblCvjiju64o1cfXlCo5ni1dAQAAAAzPsBcXMsb4jDFvGGOedm9nG2OeNcbsdy+zRrLD8EZGUkB/f8M8bfzMGl01L1/f2bhfax94QU9uOaZwhCELAAAAAEbehczx/LSkvX1u3yNpo7V2lqSN7m3EiKLsZD34oaVa//9WaUpWkj73ix266Xt/1MsHaqLdtXHBWqsQKwkDAAAAkoY41NYYM1XSY5K+KulvrLU3GWPekrTWWltpjCmU9IK1ds75noehtmOTtVZP76jU/b/dpxMN7bp6br7+/oZ5mpmfGu2uxRRrrXadaNLTO09qw45KHa9vV1LAp9REv9IS/UpL8DvXEwJKTfQrNcGv9ES/ez2gNPd6unu7+3Ep8X754ky0vz0AAABgUMOa42mM+YWkr0lKk/S3bvBssNZm9jmn3lp71nBbY8xdku6SpOLi4mVHjhy5+O8CnuoIhvXDVyr04PMH1BYM688uKdanr56lnNSEaHdtzLLWavfJJm3YWakNOyp1tK5N/jijy2flqnxqptq7QmruCKm5M6SWjpCaO4Jq6bkeUktXSEOZZp0S71NaYm8YTU3oDrO9ITat576BQ2xKvE/GEGABIFaEI1b7q5q143ijdp9o1OxJafrAimI+jAQwpl108DTG3CTpBmvtXxpj1uoCg2dfVDxjQ21Lp7793H79dPNRJQd8uvuqmVq3eroSA75od21MsNZqb2WzNriVzYraNvnijC6bmaubFhbq2gUFykyOH9JzRSJWbcGwE0jdgNrc4QTTls6gE1o7Qmrp7A2tZ7V1hNTaFR70axkjTctO1qoZubpsZo5Wz8hVdsrQ+gkA8FYkYlVR26qdJxr15rFG7TzRoF0nmtQedN7fE/xx6gxFtLgoU/ffulBzJ6VHuccAMLDhBM+vSbpdUkhSoqR0SU9JWiGG2o5rB6qa9c/P7NPz+6o0NStJ97xrrm5cWDghq2bWWr11ulkbdjiVzUM1rfLFGa2ekaMbFxbq2gWTohriwhHrVFL7VFab+1ZW3RC7t7JJmw7VqbkzJEmaV5iuy2bk6LKZuVpZkq2UBFY3BgCvWWt1srFDO4416M3jTsjccbxRzR3Oe3NiIE4LJmdo4ZQMLSrK0MIpmSrNTdGv3zypf3h6j5rag/r4mlJ96qpZfCgMYMwZke1Uzqh4PiCp1lp7vzHmHknZ1trPne/xBM/Y9Mf9NfqnDXu071SzlhZn6nPXz9WyaVkK+C5kbarYtP90s57eUakNOyt1oKpFcUZaNSNHNy6crOsWFMTkMORQOKIdJxr1yoEavXygVluP1qsrFJE/zmhxUaZWz8zVZTNytKQ4S/H+8f8zBgCvVTd3asdxN2Qed0JmbWuXJCngM5o7KV0Lp2Zo0VQnZM4uSJX/HL9j61q79E8b9uipbSdUkpuir95SptUzckfz2wGA8/IieOZIelJSsaSjkt5nra073+MJnrErHLFav/W4Hvi/t1Td3KkEf5zmT07XoqmZPZ/IluamKm4czDs5UNXiVDZ3ntTbp1tkjHRJSbZuLJ+sd5VNUm4Mhs3z6QiGtfVIvV4+UKOXD9Zq5/EGRayUFPBpRUm2LpvhDMudPzmdeUUARoy1VhW1bdp8uFanmzqVl5ag3NQE5aUluNfjleCPvWpeY1tQO9wK5g43ZFY2OhvdxxlpZn6qyqdmOiFzaqbmTkq7qKrlH/fX6PO/3KmjdW26bflUff6GeUOe5gEAXhqR4DlcBM/Y19oZ0sZ9VdpxzPlluutko9rc+YUp8T6VTcnQoiI3jE7NVFF2UkwMzT1U3R02K7XvVLOMkVZMz9ZN5YW6vmyS8tMSo93FUdPYHtSmQ7V65WCtXj5Qo/1VLZKcPWBXleY480Nn5qo0NyUmfrYAxoZIxOrtqmZtPlynTYfrtPlwnaqbO8/7mIykgBNE+wTSM2/npiYoOyU+Kh+MtXaGtOtEoxMyTzhB80htW8/903OSVT41U+VTM1Q+NVMLJqeP6JSG9q6wvrNxvx5+6ZCykgP68s0LdHP5xJwSA2DsIHjCE+GI1cHqFr15rMFZEOF4o/aebFKXu4dlZnKgJ4Q6w4gyNSljbIS4ippWbdhZqad3VGpvZZMkacX0LN24sFDvWliogvSx0c9oq2rq6Amhrxys1YmGdknSpPRErZ6Zo8tm5Oqymblj5ucKYGwIhSPaU9nUEzRfr6hTQ1tQkvP+cUlptlaWZOuSkhwVZSeptqVL1c2dztHiXNa4l91tVU2dPYvt9BVnpJzU8wfU7iMtwX9RwawjGNbeyia3kumEzAPVLT0rk0/OSHRCZlGGyqc4H8BmJAeG9W84VHtONunvn9qhN483au2cPP3Te8o0NSt5VL42AJyJ4IlR0xWK6O3TzXrzeIN2HnfC6NunmxWOOK+1/LSEnk9/u8PoaC3Mc7S2zdn6ZOdJ7TrhhM1l07rD5iQVZiSNSj9ilbVWR2rb9PLBGr1yoFavHKxRvfuHZGleihtCc3RpaQ5DvoAJpjMU1s7jjdrkBs2tFXU9K25Pz0nWypJsrSzJ0SUl2ZqadfGjYVo7Q/3CaffRE1L7tIciZ/+Nk+CPO2tY70CBtakj2C9kvnWquef5clPj+1QynXmZeWnRnYYRjlj98JUKfev/3pK10meuna2PXlbCFAkAo47giahq7wprT2WTdvSE0QYdqmnt+aR4SmaSFhU5YbR8SobKpmYoPXFkPik+VtemZ3Y6w2h3HG+UJC0pztSNCwt1w8JCTc4kbF6sSMRq76mmnhC66XCd2rrCMkYqm5yh1e62LSunZyspPvbmagE4t7aukN442uAOm63VG0cb1BlyRrvMLkjtCZorp2dHZUREJGLV2B48K6BWt3Sq5oyA2r3Qz0DSE/39Qmb51EwVZiSO2eGsx+vb9KX/2aXfv1Wt8qkZ+tp7F2rB5IxodwvABELwxJjT3BHUrhNOGO2eG3Osrr3n/tLclJ5f8uVTM7RgcsaQw8uJhnY9s6NST++s1JvHGiRJi4oydZNb2WQIkjeC4YjePNaglw/U6uWDNXrjaL2CYauAz2hJcVZPRXRRUeaEWBX5YlhrVdfapcM1rTpU3apDNa06Vt+mKZlJMTd3GuNLU0dQWyvq3YpmrXYeb1QoYhVnpAWTM9ygma0V07Njbo/gYDiiutaufgE1IRCnRVMzNS0nOeb+v1lr9fSOSn3lN7tV3xbUX7yjRH919Ww+AAQwKgieiAl1rV3aeaLRWbzIDaOnm5zFJ+KMNLsgrV8YnTspvWfLj5MN7T2VzTeONkiSFk7J0I3lhbpxYaGKsgmbo62tK6TXK+qdrVsO1mj3ySZZ6yxEtbIkW5fNdFbLnZyRpEkZiRNqP7q2rpAO17Q6R7VzebCmVYerW9Tk7uUnOVstTM5MUmVDx4Bzp7v/PzDHFiOttqVTr1f0LgS0p9L5/xvwGZVPzewJmsumZY3YCBWMrIa2Lv3zM3v15JbjKs5O1j/fslCXz2LrFQDeIngiZp1u6ui3LP2O4w098wrjfXGaW5gmX5zpCZsLJqf3hM1pOSlR7DnOVN/apdcO1fbMET1U09rv/uyUeBVmJLpHkgoze69PzkhSQUZCTG2vEApHdLy+3ale1rTqUHVLT9js3l6h2+SMRJXkpagkN0WluakqyUtRaW6KpmQmye+LG9Nzp8cia63CEatQxCoYjigUtgpGIk5b2G1zr4ciEQXDVqHutohzPeje55zjtrmXA7YN8HySlJLgV1qiX6kJfqUlBpSa6Fdad1vf9gR/VOfjnWrs0KbDtdrsBs3uFa0T/HFaWpzVsxjQkqIsKmcx5pWDNfrCL3fpcE2r3rt0ir544/wJ/f4AwFsET4wb1lodr2/vF0bbukK6dsEk3bCwUCW5hM1YcaqxQ4eqW1TZ2KHKxnadbOxQZUO7e7tDje3Bsx6TmxqvQrdCOjkjUYWZSb1BNSNRBemJPVXw0WCtVXVLZ0/V8pA7RPZwTYuO1rUpGO59j01P9Ks0L1WlbqgsyU1VSa4TNi/mD/nB5k5PzUrqHSEwwnOno6W9K6xj9W06Vtemo3VtOlbXrqN1bTpe36bKxg51hsI9oXA0+eKM/HFGAV+c/D7nuj/OeR22doXU0hnSUH7dJsf7ekJqamJA6T3B1K/UBCe0pvfc3xtY0xJ7w21KvH/QPZWttTpW167X+gTNo3XONiCpCX4tn57lrjibrYVTMkf1/xS80REM63vP79d//OGQ0pMC+tJN8/SexVNibhgxgLGP4Akg5rR1hZwQ2tChk43tOtUdUBs6dKrRaWvuMyxVkoyRclMTnFDaHVAze4NpYWaSCtIS5L/AOaYtnSFV1LTqYJ+qZfcw2ebO3j7E++NUkuOEye4K5ow8J2RmJQc8/yNv0LnTeSkqn3Jxc6dHQzhiVdnohkk3VPYGzXbVtPTf9zEp4FNxdrKKspM0OTNJiQGfG/qM/G4IDMT1CYO+uJ6A6IszCvicgOj3DdzWc1/37YHa4sygP9dIxKotGFZLR0jNHUE1d4bc6yG1dAbV3HPdbXfbWjrd9u77OkPn/TqS838gNb5vNdUJsd1V1tausF4/XKdTTU7VPSs5oBXTnWrmpaU5mjsp7YL/fyB27DvVpHvW79T2Yw26YnaevvqeMqaiABhRBE8A41JLZ0in3DBa2dg+QFDtOOuP9Tgj5aclnh1KM5I0KSNB9a3Bs4bHVvXZ6N4YZyVmZ1hsikrzeiuXkzOTxtz2BeebO+2LM5qVn3rOudMjzVqr+ragjrmBsrtq2X37RH17v2qlL86oMCPRCZdZySrOSdbUrCQ3bCYrJyV+QlVswhHrVFB7QunZAbXZbW/p0+4EXedcf5zRsunZPRXNmXmpg1ZIMb6EI1b//doRfeN3+xS2Vn9zzWz9+WUlfOAAYEQQPAFMWE0dQVX2C6a9w3lPNrarsqFjwE3ps1Pi3SGxKT1zLktyUzUtJznmF0IabO70vMI0LewTRmflpw05UHcEwzpe338obPfQ2OP17Wd9EJCTEq+p2ckq6hMou4NmYWYiKyADHjnZ0K4v/2q3ntt7Wgsmp+vrt5arbApbrwAYHoInAJyDtVZN7SGnStrUocykgEpyU5SZPHEW3xho7vTOE409ITEp4FPZlHQtnJKpRUUZmjMpTQ1tQXdIbJuO1fcGzL7VYUlKDMQ51Uo3VBZ1h8ycZE3NSlZqgj8a3zIAOf/3f7vrlO799W7VtnTqY5eX6K+vma3keP5fArg4BE8AwAWJRKwO1bRq54kGvXnMCaS7TzapMxTpd16ckQozklSUndRTqewJmNlJyktNmFDDYYFY1Nge1P2/3afHNx/V1KwkffWWhVozOy/a3QIQgwieAIBhC4Ujevt0i/ZXNSs7JV7F2ckqzEhi1VNgnNh0qFZ//8udOlTdqncvnqwv3TRfuakJ0e4WgBhC8AQAAMCgOkNhPfj7g/rBCweUkuDXF2+cr1uXsvUKgKE5V/DkI2oAAAD0SPD79DfXzNYz/987NCMvVX/78zf14Uc2qaKmNdpdAxDDCJ4AAAA4y6yCNP3846v0T+8p045jjbru2y/q+y8cUDAcGfzBAHAGgicAAAAGFBdn9OFLp+nZv1mjK+fk6xu/e0t/8m8v681jDdHuGoAYQ/AEAADAeU3KSNS/375M/3H7MtW1duqW77+sr/xmtxrauqLdNQAxgk2aAAAAMCTXLZikVTNy9MDv3tIPX6nQj149omXTsvTOefm6am6BZuSlsAgRgAGxqi0AAAAu2J6TTXpmZ6We23ta+041S5Km5yTrqrkFeue8fK0oyVbAx+A6YKJhOxUAAAB44kRDu57fV6WNe0/rlYO16gpFlJbg1xVz8nT13HxdOSdfWSnx0e4mgFFA8AQAAIDn2rpC+uP+GieI7qtSdXOn4oy0bFqWrppboKvn5WtWfipDcoFxiuAJAACAURWJWO062ajn9lbp+X2ntetEkySpKDtJV7sh9JKSHMX7GZILjBcETwAAAETVqcaOniG5fzxQo85QRKkJfr1jVq6unlegtXPylJuaEO1uAhgGgicAAADGjPausF45WKON+6r0/N4qnWrqkDHSkqJMXT3PqYbOKUhjSC4QYwieAAAAGJOstdp9skkb3SG5bx5vlCRNyUzS1fPyddXcfF1amqPEgC/KPQUwGIInAAAAYkJVU4d+/1aVnttbpT/ur1F7MKzkeJ8un5mrd84r0Nq5ecpPS4x2NwEMgOAJAACAmNMRDOvVQ7V6fq8zN/RkY4ckaVFRpq6em6+r5+VrfmE6Q3KBMYLgCQAAgJhmrdW+U83auPe0Nu6r0vZjDbJWKsxI1FVuCC2fmqmclHiCKBAlBE8AAACMKzUtnfr9vio9v69KL75drdausCQpLdGv0twUleSmqDQvVSXu9ZLcFKUk+KPca2B8I3gCAABg3OoMhbW1ol5vn27WoZpWHa5p1aHqVp1sbFffP3cnpSc6ITQvRaW5KSrNS1FJbqqmZiUp4GM/UWC4zhU8+cgHAAAAMS/B79PqmblaPTO3X3tHMKyK2lYdrm7VITeMHq5p0W93Vqq+Ldhznj/OqDg72Q2iThgtyU3RjLwU5aUlMHQXGKZBg6cxJlHSi5IS3PN/Ya291xhzn6Q7JVW7p37eWvuMVx0FAAAALlRiwKe5k9I1d1L6WffVt3b1VEcP17T0VElf2l+jzlCk57yUeJ9K3Mpob5XUOdISA6P57QAxaygVz05JV1lrW4wxAUl/NMb81r3vX6213/SuewAAAIA3slLitSwlXsumZfVrj0SsKps6dKi6N4wermnV9mP1enrHyX5Dd/PSEpy5pGfMKS3OTla8n6G7QLdBg6d1JoG2uDcD7jF6E0MBAACAURQXZzQlM0lTMpP0jll5/e7rCIZ1rK6t37DdwzWtenbPadW2dvU+h5GKspM1PSdF2SnxSk3wKy3Rr9REv9IS/EpLDCg1wb2d6FdaQqDnOnNNMR4NaY6nMcYnaaukmZIetNZuMsa8S9Ldxpg7JG2R9Blrbb13XQUAAACiKzHg06yCNM0qSDvrvsa2oA7XOmH0kDun9Ehtqw7VtKi5I6TmjpDCkcHrNwn+OCeMdofTgUJrYm97WqJfqQkB99Lfc+knwGIMuaBVbY0xmZJ+KelTcuZ21sipfv6jpEJr7Z8P8Ji7JN0lScXFxcuOHDky/F4DAAAAMcZaq85QRE0dQbV0hNTSGeoJpM713vYm97KlI9jnfveczpCGkF+VFPD1qah2B9eAMpMDKp+aqZUl2ZqRl8LCSRhRI7adijHmXkmtfed2GmOmS3raWlt2vseynQoAAAAwPNZatQfDA4bWZjegOgHWCa3Nnc7t7tBa3dzZs6Jvbmq8VpZka+X0bK0sydHcSWmKiyOI4uJd9HYqxpg8SUFrbYMxJknSOyV93RhTaK2tdE+7RdKuEe0xAAAAgLMYY5Qc71dyvF8FZy/WOyhrrQ7XtGrT4TptPlynTYdq9czOU5Kk9ES/VkzP1iWlThBdMDmdOacYEUOZ41ko6TF3nmecpCettU8bY35sjFksZ6hthaSPe9ZLAAAAACPCGKPSvFSV5qXqgyuLJUnH69u02Q2imw/XaeO+KklScrxPy6ZluRXRbC0qylRiwBfN7iNGXfBQ2+FgqC0AAAAw9lU1dWhzRW8Q3XeqWZIU74/T4qJMXVLiBNGlxVlKSRjSeqWYIEZsjudwEDwBAACA2NPQ1qXXK+q1+XCtNh2u064TjYpYyRdnVDYlQ5eUZOuSkmwtn5atjORAtLuLKCJ4AgAAABgRLZ0hbT3iBNHNh+v05rFGdYUjMkaaOym9pyK6siRbuakJ0e4uRhHBEwAAAIAnOoJhbT/WoE2H6rS5olZbj9SrIxiRJM3IS9HKkpyeMDo5MynKvYWXCJ4AAAAARkVXKKJdJxt75oi+frhOzZ0hSdLUrCRd0ieITstJZi/RcYTgCQAAACAqwhGrvZVNvSvnVtSprrVLkpSflqAVJdlaPi1LS4uzNJ8tXGIawRMAAADAmGCt1cHqlp69RDcfrlNlY4ckKcEfp0VTM7VkWqaWFWdp6bQs5onGEIInAAAAgDGrsrFd2440aOuRem07Wq/dJxsVDDtZpTg7WcumZWlpcaaWFGdp7qQ0+amKjkkETwAAAAAxoyMY1q4Tjdp2tN4Now2qbu6UJCXH+7RoaqYTRqdlaklRlrJS4qPcY0jnDp7s9goAAABgzEkM+LR8eraWT8+W5AzPPV7frm1H67XtSL22Hq3XD/5wUOGIU0grzUvR0uIstzKapVn5qYqLY9GisYKKJwAAAICY1NYV0o7jjdp6pF5vuJXR+ragJCkt0a/FRZk9YXRxcabSEwNR7vH4R8UTAAAAwLiSHO/XpaU5urQ0R5JTFa2obeupiG47Uq/vPr9f1krGSLPyU7VsWpaWuGG0NDeFrVxGCRVPAAAAAONWc0dQbx7rnSv6xtF6NXU4e4pmJge0pCizZ3juoqJMpSRQmxsOKp4AAAAAJpy0xIAun5Wry2flSpIiEWcrl76LFv3+rWpJUpyR5k5K19JpmVoxPVuXzcxlK5cRQsUTAAAAwITW2BbUtmP1esMNom8crVdrV1iStHBKhtbMztMVs/O0pDhTAbZxOS+2UwEAAACAIQhHrHadaNSLb1frxf3V2na0QeGIVVqCX5fNzNWaOU4QnZKZFO2ujjkETwAAAAC4CI3tQb1yoEZ/eLtaL75drZONHZKkmfmpPdXQS0qylRjwRbmn0UfwBAAAAIBhstbqQFWL/vB2tf7wdrU2Ha5TVyiiBH+cLi3N0RWz87Rmdp5m5E3MFXMJngAAAAAwwtq7wnrtcK1edIPooepWSdKUzCRnSO6sPF02M0dpE2QPUYInAAAAAHjsWF1bz5Dclw/UqLUrLH+c0dJpWVrjVkPnF6YrLm58VkMJngAAAAAwirpCEW07Wt9TDd19skmSlJsarytmOXND3zErVznjaMsWgicAAAAARFFVc4deertGL+53KqL1bUEZc8aWLUWZ8sfwli0ETwAAAAAYI7q3bOkelrvtaL0iVkpL9Ovymbm6YnZsbtlC8AQAAACAMaqxLaiXD9b0DMutdLdsmZWf2rNS7soY2LKF4AkAAAAAMcBaq/1VLT0hdNOhOnWFI8pMDuj1L7xTgTE8FPdcwdMfjc4AAAAAAAZmjNHsgjTNLkjTX7yjVG1dIW06VKfj9W1jOnSeD8ETAAAAAMaw5Hi/rpybH+1uDEtsxmUAAAAAQMwgeAIAAAAAPEXwBAAAAAB4iuAJAAAAAPAUwRMAAAAA4CmCJwAAAADAU4MGT2NMojFmszHmTWPMbmPMV9z2bGPMs8aY/e5llvfdBQAAAADEmqFUPDslXWWtXSRpsaTrjTGXSrpH0kZr7SxJG93bAAAAAAD0M2jwtI4W92bAPaykd0t6zG1/TNJ7vOggAAAAACC2DWmOpzHGZ4zZLqlK0rPW2k2SCqy1lZLkXuZ71ksAAAAAQMwaUvC01oattYslTZW00hhTNtQvYIy5yxizxRizpbq6+iK7CQAAAACIVRe0qq21tkHSC5Kul3TaGFMoSe5l1Tke85C1drm1dnleXt7wegsAAAAAiDlDWdU2zxiT6V5PkvROSfsk/VrSOve0dZJ+5VEfAQAAAAAxzD+EcwolPWaM8ckJqk9aa582xrwq6UljzMckHZX0Pg/7CQAAAACIUYMGT2vtDklLBmivlXS1F50CAAAAAIwfFzTHEwAAAACAC0XwBAAAAAB4iuAJAAAAAPAUwRMAAAAA4CmCJwAAAADAUwRPAAAAAICnCJ4AAAAAAE8RPAEAAAAAniJ4AgAAAAA8RfAEAAAAAHiK4AkAAAAA8BTBEwAAAADgKYInAAAAAMBTBE8AAAAAgKcIngAAAAAATxE8AQAAAACeIngCAAAAADxF8AQAAAAAeIrgCQAAAADwFMETAAAAAOApgicAAAAAwFMETwAAAACApwieAAAAAABPETwBAAAAAJ4ieAIAAAAAPEXwBAAAAAB4iuAJAAAAAPAUwRMAAAAA4CmCJwAAAADAUwRPAAAAAICnCJ4AAAAAAE8RPAEAAAAAniJ4AgAAAAA8NWjwNMYUGWN+b4zZa4zZbYz5tNt+nzHmhDFmu3vc4H13AQAAAACxxj+Ec0KSPmOt3WaMSZO01RjzrHvfv1prv+ld9wAAAAAAsW7Q4GmtrZRU6V5vNsbslTTF644BAAAAAMaHC5rjaYyZLmmJpE1u093GmB3GmP8yxmSd4zF3GWO2GGO2VFdXD6+3AAAAAICYM+TgaYxJlbRe0l9Za5sk/UDSDEmL5VREvzXQ46y1D1lrl1trl+fl5Q2/xwAAAACAmDKk4GmMCcgJnT+x1j4lSdba09basLU2IulhSSu96yYAAAAAIFYNZVVbI+kRSXuttf/Sp72wz2m3SNo18t0DAAAAAMS6oaxqe5mk2yXtNMZsd9s+L+mDxpjFkqykCkkf96B/AAAAAIAYN5RVbf8oyQxw1zMj3x0AAAAAwHhzQavaAgAAAABwoQieAAAAAABPETwBAAAAAJ4ieAIAAAAAPEXwBAAAAAB4iuAJAAAAAPAUwRMAAAAA4CmCJwAAAADAUwRPAAAAAICnCJ4AAAAAAE8RPAEAAAAAniJ4AgAAAAA8RfAEAAAAAHiK4AkAAAAA8BTBEwAAAADgKYInAAAAAMBTBE8AAAAAgKcIngAAAAAATxE8AQAAAACeIngCAAAAADxF8AQAAAAAeIrgCQAAAADwFMETAAAAAOApgicAAAAAwFMETwAAAACApwieAAAAAABPETwBAAAAAJ4ieAIAAAAAPEXwBAAAAAB4iuAJAAAAAPAUwRMAAAAA4CmCJwAAAADAU4MGT2NMkTHm98aYvcaY3caYT7vt2caYZ40x+93LLO+7CwAAAACINUOpeIYkfcZaO0/SpZI+aYyZL+keSRuttbMkbXRvAwAAAADQz6DB01pbaa3d5l5vlrRX0hRJ75b0mHvaY5Le41EfAQAAAAAx7ILmeBpjpktaImmTpAJrbaXkhFNJ+SPeOwAAAABAzBty8DTGpEpaL+mvrLVNF/C4u4wxW4wxW6qrqy+mjwAAAACAGDak4GmMCcgJnT+x1j7lNp82xhS69xdKqhrosdbah6y1y621y/Py8kaizwAAAACAGDKUVW2NpEck7bXW/kufu34taZ17fZ2kX4189wAAAAAAsc4/hHMuk3S7pJ3GmO1u2+cl3S/pSWPMxyQdlfQ+T3oIAAAAAIhpgwZPa+0fJZlz3H31yHYHAAAAADDeXNCqtgAAAAAAXCiCJwAAAADAUwRPAAAAAICnCJ4AAAAAAE8RPAEAAAAAniJ4AgAAAAA8RfAEAAAAAHiK4AkAAAAA8BTBEwAAAADgKYInAAAAAMBTBE8AAAAAgKcIngAAAAAATxE8AQAAAACeIngCAAAAADxF8AQAAAAAeIrgCQAAAADwFMETAAAAAOApgicAAAAAwFMETwAAAACApwieAAAAAABPETwBAAAAAJ4ieAIAAAAAPEXwBAAAAAB4iuAJAAAAAPAUwRMAAAAA4CmCJwAAAADAUwRPAAAAAICnCJ4AAAAAAE8RPAEAAAAAniJ4AgAAAAA8RfAEAAAAAHiK4AkAAAAA8NSgwdMY81/GmCpjzK4+bfcZY04YY7a7xw3edhMAAAAAEKuGUvH8oaTrB2j/V2vtYvd4ZmS7BQAAAAAYLwYNntbaFyXVjUJfAAAAAADj0HDmeN5tjNnhDsXNGrEeAQAAAADGlYsNnj+QNEPSYkmVkr51rhONMXcZY7YYY7ZUV1df5JcDAAAAAMSqiwqe1trT1tqwtTYi6WFJK89z7kPW2uXW2uV5eXkX208AAAAAQIy6qOBpjCnsc/MWSbvOdS4AAAAAYGLzD3aCMeZxSWsl5Rpjjku6V9JaY8xiSVZShaSPe9dFAAAAAEAsGzR4Wms/OEDzIx70BQAAAAAwDg1nVVsAAAAAAAZF8AQAAAAAeIrgCQAAAADwFMETAAAAAOCpQRcXAgAAAIAREeqUOlukziaps7n3iISk3NlSdqnkI6KMR/xUAQAAAJxbJCIFW92Q2OJenhEcu9u6Ws5u63s73HX+r+VPlPLmSgULeo/8BVJq3uh8r/AMwRMAAAAYDyIRKdThHMH2Ptfdy1B77/WzQmOz1DVAW/chO/jX9ydKCWl9jnQpo8i5Hp/av73feWnO46vfkk7vkqr2SAeek7b/pPe5U/L7h9GCBVLuHCmQ6Mk/JUYewRMAAADwQiQstddLXa1nhMB2Z8jpWeHwYtvd64NVEwdkzg6B8alSWuHAAfGs4Jjq3I5Plfzxw/v3mrK0/+3WGun07j7HLun1/3S+f0kyPilnphtE50sFZVL+fCmzWDJmeH3BiCN4AgAAAEMViThhsrVKajkttVQ7l61VUkvf47TUViPZyIV/DV+8Uz30JzoVvZ7rSZI/QUrMHKC97/nueedr7w6OgRQpboyuN5qSK5WucY5ukbBUd8gJoaf3OIH0xFZp91O95ySkOwG0YL4bSsuk/HlSYsbofw9DYa0zJLm1xjnaaqTW6t7brdVuW43kC0h3vRDtHl8UgicAAAAmNmuljoZzh8iekFnlhIBI6Ozn8MU7w0FT86WMKdKUJc7tlDynKnhWkEwaOFT6E6U436j/E8SMOJ+UO8s5FtzS297ZLFXt7R9Id66XtvxX7zkZxX2qo24gzZ4x8osZWetUuVurpbbaPiFygNvdQfNc1eqEdCk5x3kdZRZL6ZNHtq+jiOAJAACA8cdaJ4y0VveGxn4hsk97a9XAf/jH+d0wmSelFkgFC51g2X2k5DvtqXlOFZLhndGTkCYVrXSObtZKTSd6h+me3u2E0v3/J9mwc44vQcqb44TQvoE0Nb//83e19alE1vapQp55223rHg58pkCKlOIGyfTJ0qRyp7Kbkuu0Jfe9njOu5rASPAEAABDbrJUO/0F64ydS/eHeYBlqP/tcE+f8Ud8dHPPm9gbLlD6hMrXACZNjdRgqBmeMlDHVOWZf19se6nQWMqra0xtIDz4vvfnT3nOSc53Htdc7YTLYOvDX8Cf2hsSUPOf1lJLrBsg898jpDZXxyd5+z2MYwRMAAACxqaNJevNxZ8GZmrelpGypcJFUXHp2RbI7WCZnM5R1ovMnSIXlztFX38WMqnZLTZXO3qJ9w2O/qmSus6gSle4hIXgCAAAgtpzeI73+sPTmz5xK1JTl0i3/Ic1/z7gamohRNtBiRhgxBE8AAACMfeGgtPc3TnXzyMvOEMeyP5VW/oU0eUm0ewdgEARPAAAAjF1NldLWHzpHyykpa7p0zT9KSz7sDJsFEBMIngAAABhbrHWqmpsflvY97ezdOPOd0srvOZcs+APEHIInAAAAxobOFmnHE9LrjzgrjiZmSpf+P2n5n0vZpdHuHYBhIHgCAAAguqrfcuZubn9c6mp2VqZ994NS2a1SICnavQMwAgieXomEnY2Iw13OZPiey+AA7Wdcj4R6r8f5pRlXSxlTov0dAQAAjJxwSHrrGWd12sMvSr54acF7pZV3SlOWsUUFMM4QPLvVV0ivPngRQTEoRYJn328jI9u/4lXOp37z3+3sSwUAABCLWqqkrY9JWx+Vmk5IGUXS1fdKS+9wtrMAMC4RPLu110s7f+582hYXkHwB57ovvs/1gBTIOKMtXvL5Bzj3PNfjBju/T1tHg7Tn19Lup6Rn/lb67eek6e+Qyt4rzfsTVnMDAABjn7XSsU3OYkF7fuV8aF96pXTDA9Ls66U4X7R7CMBjxlo7al9s+fLldsuWLaP29cadqr3SrqekXeuluoNOgC290gmhc2+UEjOi3UMAAIBeXa3OB/uv/6d0aqeUkCEt/pC04i+k3JnR7h0ADxhjtlprl5/VTvCMQdZKp3a4IfQpqfGoUx2deY0TQmdfLyWkRruXAABgoqo96C4W9BOpo1EqKHPCZvltUnxKtHsHwEPnCp4MtY1FxjirvRUukt55n3RiqxNAdz8lvbVB8idJs69z5oTOuobV4AAAgPciYent/3UWCzr4vDMya/67pRV3SsWXslgQMMFR8RxPIhHp2GvOUNw9v5Jaq6X4VGnODU4InXGV5I+Pdi8BAMB40lojbfuRtOVRZxRW2mRp+UelpeuktIJo9w7AKGOo7UQTDkkVLzlV0D2/dhYpSsyQ5t3sLFVessZZFAkAAOBinNjqLBa06ykp3OksfrjyTmnOjfyNAUxgBM+JLNQlHXrBCaF7n3Y2Zk7OcYa/LHivNG01q8kBAIDBRcLSvg3OFnTHXnNGVi36oDN/M39utHsHYAwgeMIR7JAOPOfOB/2tFGyTUidJC97jDMeduoI5GAAAoL/OFmehoNe+7+x9njlNuvQvpSV/JiWkRbt3AMYQgifO1tXqLAKwa720/1lnmExGUW8ILVxMCAUAYCJrPCFt/g9pyw+lzkap6BJp1SeluTcxWgrAgAieOL+OJqcCumu9sxJdJChllTjbs5TdKuXPJ4QCADBRnHzDGU67+5eSjTjTcy79pFS0Ito9AzDGETwxdO31zlzQXeulwy9KNizlznECaNl7pdxZ0e4hAAAYaZGI9PbvnMB55I9SfJq0bJ208i4pa1q0ewcgRhA8cXFaqqW9v5J2/VI68rIkK+XNlSYtlPLmSHnznNvZJQy5wdgViTgrO7fVSW21Urt72Vbbp62+99IXLyVl9R7J2f1vJ51xm22KAMSyrlbpzcelV78v1R10pt1c8glp6e3OivgAcAEuOngaY/5L0k2Sqqy1ZW5btqSfSZouqULSbdba+sE6QfCMcU2V0p7/kQ5slKrfcvbq6uZLcCqheXOdI3+uE0qzprOkOkZWJOyGxDNDZN/bZ7R1NDhDxQYSF3BWeU7OcQNmphQOOl+j++u01zuV/3OJT3VDaObZobRfaCWwAhhDmiql1x+WtvyX8z43eam0+m5p3rv53Q3gog0neF4hqUXSj/oEz29IqrPW3m+MuUdSlrX27wbrBMFznOlslmrelqr2SdXuUbXvjEAaL+XO7lMdnSPlz3Pmj/JLbWKx1jlknRDYfXS2DF6F7Bsq2xuc5xiIL6E3QCZnO9eTsvu0dd/uc3986uDzl611Xu/t9W4f+obSht7bfe/rPiKhcz9vv8A6QDDtDq3JOc5iX4HEi/mXB4D+Tu10htPu/IXzHjXvJmnV3c7CQaznAGCYhjXU1hgzXdLTfYLnW5LWWmsrjTGFkl6w1s4Z7HkInhNEZ4tU85ZTFa3a61xW75UazgikObN6g2h3MM0ukXyB6PU9VlgrdbU4i0J1NvW5bHQuO5sHuK9JCnXorODXHQj7tblHz7n2jPPPPHeAQHnmuecKi+fiT3IDY9bAATI5pzeUdbcFksfWH03nCqzt9VLbGQH1zPvPDKxJWVL5B6Sld0gF86Pz/QCIXZGIs53aq/8mHf6DFEhxhtJe8nEpuzTavQMwjox08Gyw1mb2ub/eWpt1jsfeJekuSSouLl525MiRi/oGMA50tboh1A2i3cG0oc9rIi7gDtk9o0KaXTp+Amkk4obD7lDY3Od648CBsd+5jc7luYaOdjNxUkK6cyS6l/4EZy6uies9ZJyw1rftrNtum87RPqTz+p5rer92QtrZATIpW4pP9v5nMVb1C6z1UtMJpzKx72kp3OXst7v0DmnBe6WE1Gj3FsBYFmyX3nzC2X+z5m0pbbITNpetc957AWCERS149kXFEwPqanV+GfZUSN1hu/VH1FMliwtIOTPPrpDmzLi4QBoJS6FO54/4cNDZwzTcJYW6ztPW6bZ3uY8Nnqety/llP1B47GoevH9x/v6BMTGj/+2EtD73pUsJGWfcTpfiU8ZW9Q/D11or7fiZtO0x5/9IfKqz0vTSddKUZfy8AfRqqZJe/0/naKuVChc5w2kX3DJ+PsgFMCYx1Baxp6vNDaR95o9W75PqK9QbSP1OIE2f4uw92hMCzwiLoT4BMdw5eLXwghmnmuiL7z0CiecPj2cGx75hMpBEiMC5WSsdf90JoLuekoJtzl67S++Qyt/vVI4BTEyn90ivPSjteNL5vTfnXdKqT0rTLuP3CoBRMdLB8wFJtX0WF8q21n5usOcheGJEdLVJtfv7L2rUXNk/9PkTnE90fd1hMHB2mz++/2PO2db3cYFzPD8LJSFKOpqk3U9J234kndjqvB7n3eyE0OlXSHFx0e4hAK9ZKx3c6CwYdPB5Z4784g9Jl/6llDsz2r0DMMEMZ1XbxyWtlZQr6bSkeyX9j6QnJRVLOirpfdbausE6QfAEAA+d2iW98WNnPldHg7Od0ZLbpcV/JqUXRrt3AEZasEPa+XMncFbvlVILpJV3Scv/nJEPAKJmWBXPkULwBIBREOxwFiLa9ph0+EVnIadZ1zlV0FnXUqEHYl1rjfT6I84enK3VUkGZM5y27FZnRA4ARNG5gid/fQDAeBNIlBb+qXPUHpTe+G9p+0+kt38rpU5yhuAt+bCzOBeA2FH9llPd3PEzZ3usWdc6gbNkDfM3AYx5VDwBYCIIh6T9/+fMBd3/v84CW9Pf4ayIO+9mJ6wCGDu6Wp2V3k/tlE7vlirflI5vdtYWWPQBJ3DmDbquIwCMOobaAgAcTSel7T91QmjDESkx01kNd+kd0qSyaPcOmFislRqOSqd3OQGzO2jWHVLPCu7xaVLBAmnGVc78zdS8qHYZAM6H4AkA6C8SkSpecgLo3l872w1NWeYE0LJbnS1+AIycrlZnu5PTu3qD5undzj7P3bJLnZBZsNC5nFQmZRSzQjWAmEHwBACcW1udM29s24+kqj1SIEUqu8UZijt1BfPHgAthrTOa4PRuZ7Xp7qBZd1hnVTEnlfUGzfx5UkJqVLsOAMNF8AQADM5aZz/QbY9JO9dLwVYpb65TBS3/gJSSE+0eAmNLZ4szF/P0zj5Bc7fU1eyeYKTsEmfl2YKy3qCZOY0PdACMSwRPAMCF6WyWdv/SqYIef13yxUtzb3RCaMlahv5hYolEpMajvcHy9E7nev3h3nMS0t3q5YLeoEkVE8AEQ/AEAFy803ukN34svfm41F4vpU+VCuY7G9anFUpp3ZeTnC1bUvMlXyDavQYunLVSR4NUs98ZHnuqz1zMflXMUrd6WdYbNDOLqWICmPAIngCA4Qt2SG9tkHY9JTUek5pPS61VzvYs/RgpJdcJommFZwfU1EluSCWgYpRZ68xpbjjivIYbjkoN3ZdHnba+i/30VDHdgDnJnYsZnxK97wEAxrBzBU9/NDoDAIhRgURnxduyW3vbImGptVpqrnSCaHOl1HxKajnlXDafkip3DB5Qu8Noz0FAxUWwVmqpckPlkd5Q2dgnXAbb+j8mPs2pVmYWS9Mvcy6zS6liAsAIIngCAIYnztcbFs9nKAH11M4LD6ipbkhNyXW/Tsj5WpFQn2OA23YI55x1/QKfV0ZKypKSc5z+JedIydnupXsEkrz4qYxfkYjzmumpUp5RuWw8JoU6+j8mMdMJkDkznb0wM4p6g2ZmkXM/4RIAPEXwBACMjuEE1JY+QfW8AXWUxAWkOL97+Ppc9zuLLnVftxFnTmxbnXq20ThTIHngQHrOI3t8V3/DIedn3a9K2ady2XTC2XO2r+QcJ0QWzJdmX+esGJvphsuMIikxPTrfCwCgB8ETADC2XGxAbauRZM4RBgcJiOc8x71tfP0fd6EiYamjUWqrlVprnMt+R13v9brDzmXfeYZnSsgYIKhmn1FZ7XMkZl54v62VwkEpEnSCXjjkXEaCTnvYbY+47d1tPeefefvMx/c5p6PRDZpHpcYTTtW4r9QCJ0BOXiLN/xO3UjnNrVwWMd8SAGIAwRMAEJuGGlDHgjifGwyzpdxZQ3tMqEtqrzt/SG2tcYL36d1O8D5ziGk3E9c75Dc+1Q1/AwXJPkExEhq573/APvmcyq0v3ulTZrFUdIm0sLjPUNhpUsZUZ24xACCmETwBABiL/PEXHqy72gYIqWdUWLtanaHCvkBv8IvzO5fdbXFuu89tP+v8EXg8+8ACwIRC8AQAYLyIT3aOzKJo9wQAgH74uBEAAAAA4CmCJwAAAADAUwRPAAAAAICnCJ4AAAAAAE8RPAEAAAAAniJ4AgAAAAA8RfAEAAAAAHiK4AkAAAAA8BTBEwAAAADgKYInAAAAAMBTBE8AAAAAgKcIngAAAAAATxE8AQAAAACeMtba0ftixlRLOtKnKVdSzah1ABhdvL4x3vEax3jG6xvjGa9veGmatTbvzMZRDZ5nfXFjtlhrl0etA4CHeH1jvOM1jvGM1zfGM17fiAaG2gIAAAAAPEXwBAAAAAB4KtrB86Eof33AS7y+Md7xGsd4xusb4xmvb4y6qM7xBAAAAACMf9GueAIAAAAAxrlRCZ7GmP8yxlQZY3b1acs2xjxrjNnvXmaNRl8AL5zjNX6fMeaEMWa7e9wQzT4CF8sYU2SM+b0xZq8xZrcx5tNuO+/jiHnneX3zHo5xwRiTaIzZbIx5032Nf8Vt5z0co2pUhtoaY66Q1CLpR9baMrftG5LqrLX3G2PukZRlrf07zzsDeOAcr/H7JLVYa78Zzb4Bw2WMKZRUaK3dZoxJk7RV0nskfUS8jyPGnef1fZt4D8c4YIwxklKstS3GmICkP0r6tKT3ivdwjKJRqXhaa1+UVHdG87slPeZef0zOmzwQk87xGgfGBWttpbV2m3u9WdJeSVPE+zjGgfO8voFxwTpa3JsB97DiPRyjLJpzPAustZWS86YvKT+KfQG8crcxZoc7FJchLIh5xpjpkpZI2iTexzHOnPH6lngPxzhhjPEZY7ZLqpL0rLWW93CMOhYXArzzA0kzJC2WVCnpW1HtDTBMxphUSesl/ZW1tina/QFG0gCvb97DMW5Ya8PW2sWSpkpaaYwpi3KXMAFFM3iedudVdM+vqIpiX4ARZ6097b7RRyQ9LGlltPsEXCx3XtB6ST+x1j7lNvM+jnFhoNc37+EYj6y1DZJekHS9eA/HKItm8Py1pHXu9XWSfhXFvgAjrvvN3HWLpF3nOhcYy9yFKR6RtNda+y997uJ9HDHvXK9v3sMxXhhj8owxme71JEnvlLRPvIdjlI3WqraPS1orKVfSaUn3SvofSU9KKpZ0VNL7rLUszoKYdI7X+Fo5Q7SspApJH++eSwHEEmPM5ZJekrRTUsRt/ryceXC8jyOmnef1/UHxHo5xwBhTLmfxIJ+cotOT1tp/MMbkiPdwjKJRCZ4AAAAAgImLxYUAAAAAAJ4ieAIAAAAAPEXwBAAAAAB4iuAJAAAAAPAUwRMAAAAA4CmCJwAAAADAUwRPAAAAAICnCJ4AAAAAAE/9/7DdeClEJdHlAAAAAElFTkSuQmCC\n",
      "text/plain": [
       "<Figure size 1152x432 with 1 Axes>"
>>>>>>> 1d09917b82cc267801426aa6984ffd332c019fb9
      ]
     },
     "metadata": {
      "needs_background": "light"
     },
     "output_type": "display_data"
    }
   ],
   "source": [
    "plt.figure(figsize=(15,7))\n",
    "plt.plot(ts.rolling(window=12,center=False).mean(), label='Rolling Mean')\n",
    "plt.plot(ts.rolling(window=12,center=False).std(), label='Rolling sd')\n",
    "plt.legend()\n",
    "plt.show()"
   ]
  },
  {
   "cell_type": "markdown",
   "metadata": {
    "_cell_guid": "5fe94fac-46c3-43c5-b032-705cdfd43726",
    "_uuid": "1a06f1b76571d5d09095148d07ddfa1e4e2002cc"
   },
   "source": [
    "**Quick observations:**\n",
    "There is an obvious \"seasonality\" (Eg: peak sales around a time of year) and a decreasing \"Trend\".\n",
    "\n",
    "Let's check that with a quick decomposition into Trend, seasonality and residuals.\n"
   ]
  },
  {
   "cell_type": "markdown",
   "metadata": {},
   "source": [
    "Podemos checar nossas hipóteses realizando a decomposição da série."
   ]
  },
  {
   "cell_type": "markdown",
   "metadata": {},
   "source": [
    "Temos duas opções de decomposição da série, o modelo multiplicativo e o modelo aditivo. Seja $S_{t}$ a componente sazonal, $T_t$, a componente referente à tendência, e $z_{t}$ a componente estocástica."
   ]
  },
  {
   "cell_type": "markdown",
   "metadata": {},
   "source": [
    "Aditivo:\n",
    "$$\n",
    "Y_{t} = S_{t} + T_{t} + Z_{t}\n",
    "$$\n",
    "\n",
    "Multiplicativo:\n",
    "$$\n",
    "Y_{t} = S_{t}T_{t}Z_{t}\n",
    "$$\n"
   ]
  },
  {
   "cell_type": "code",
   "execution_count": 33,
   "metadata": {
    "_cell_guid": "b7c4c5fe-8a25-403d-8bb6-fa4f64699c00",
    "_uuid": "611d345c3a3358dd34826c277bd2294247183c0e"
   },
   "outputs": [
    {
     "data": {
      "image/png": "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\n",
      "text/plain": [
       "<Figure size 432x288 with 4 Axes>"
      ]
     },
     "metadata": {
      "needs_background": "light"
     },
     "output_type": "display_data"
    }
   ],
   "source": [
    "import statsmodels.api as sm\n",
    "# multiplicative\n",
<<<<<<< HEAD
    "res = sm.tsa.seasonal_decompose(ts.values, freq=12, model=\"multiplicative\")\n",
=======
    "res = sm.tsa.seasonal_decompose(ts.values,period=12,model=\"multiplicative\")\n",
>>>>>>> 1d09917b82cc267801426aa6984ffd332c019fb9
    "#plt.figure(figsize=(16,12))\n",
    "fig = res.plot()\n",
    "#fig.show()"
   ]
  },
  {
   "cell_type": "code",
   "execution_count": 35,
   "metadata": {
    "_cell_guid": "68db7d1b-1a74-48d2-96f0-78c8847981bb",
    "_uuid": "80b4215987ff52e4e514b97093a54fc55461430a"
   },
   "outputs": [
    {
     "data": {
      "image/png": "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\n",
      "text/plain": [
       "<Figure size 432x288 with 4 Axes>"
      ]
     },
     "metadata": {
      "needs_background": "light"
     },
     "output_type": "display_data"
    }
   ],
   "source": [
    "# Additive model\n",
    "res = sm.tsa.seasonal_decompose(ts.values,period=12,model=\"additive\")\n",
    "#plt.figure(figsize=(16,12))\n",
    "fig = res.plot()\n",
    "#fig.show()"
   ]
  },
  {
   "cell_type": "markdown",
   "metadata": {
    "_cell_guid": "7e6f683b-a27d-4a68-9069-e0c713356339",
    "_uuid": "a243f999421ec6d568a781d8a1f9baea720b09db"
   },
   "source": [
    "we assume an additive model, then we can write\n",
    "\n",
    "> yt=St+Tt+Et \n",
    "\n",
    "where yt is the data at period t, St is the seasonal component at period t, Tt is the trend-cycle component at period tt and Et is the remainder (or irregular or error) component at period t\n",
    "Similarly for Multiplicative model,\n",
    "\n",
    "> yt=St  x Tt x Et \n",
    "\n",
    "## Stationarity:\n",
    "\n",
    "![q](https://static1.squarespace.com/static/53ac905ee4b003339a856a1d/t/5818f84aebbd1ac01c275bac/1478031479192/?format=750w)\n",
    "\n",
    "Stationarity refers to time-invariance of a series. (ie) Two points in a time series are related to each other by only how far apart they are, and not by the direction(forward/backward)\n",
    "\n",
    "When a time series is stationary, it can be easier to model. Statistical modeling methods assume or require the time series to be stationary.\n",
    "\n",
    "\n",
    "There are multiple tests that can be used to check stationarity.\n",
    "* ADF( Augmented Dicky Fuller Test) \n",
    "* KPSS \n",
    "* PP (Phillips-Perron test)\n",
    "\n",
    "Let's just perform the ADF which is the most commonly used one.\n",
    "\n",
    "Note: [Step by step guide to perform dicky fuller test in Excel](http://www.real-statistics.com/time-series-analysis/stochastic-processes/dickey-fuller-test/)\n",
    "\n",
    "[Another Useful guide](http://www.blackarbs.com/blog/time-series-analysis-in-python-linear-models-to-garch/11/1/2016#AR) \n",
    "\n",
    "[good reference](https://github.com/ultimatist/ODSC17/blob/master/Time%20Series%20with%20Python%20(ODSC)%20STA.ipynb)\n"
   ]
  },
  {
   "cell_type": "code",
   "execution_count": 36,
   "metadata": {
    "_cell_guid": "0172ae25-5173-4645-960a-cedcb2800cb9",
    "_uuid": "f98bc8fda199838bfa54b1b406e6c7f5023d16bb"
   },
   "outputs": [
    {
     "name": "stdout",
     "output_type": "stream",
     "text": [
      "Results of Dickey-Fuller Test:\n",
      "Test Statistic                 -4.434947\n",
      "p-value                         0.000257\n",
      "#Lags Used                      0.000000\n",
      "Number of Observations Used    33.000000\n",
      "Critical Value (1%)            -3.646135\n",
      "Critical Value (5%)            -2.954127\n",
      "Critical Value (10%)           -2.615968\n",
      "dtype: float64\n"
     ]
    }
   ],
   "source": [
    "# Stationarity tests\n",
    "def test_stationarity(timeseries):\n",
    "    \n",
    "    #Perform Dickey-Fuller test:\n",
    "    print('Results of Dickey-Fuller Test:')\n",
    "    dftest = adfuller(timeseries, autolag='AIC')\n",
    "    dfoutput = pd.Series(dftest[0:4], index=['Test Statistic','p-value','#Lags Used','Number of Observations Used'])\n",
    "    for key,value in dftest[4].items():\n",
    "        dfoutput['Critical Value (%s)'%key] = value\n",
    "    print (dfoutput)\n",
    "\n",
    "test_stationarity(ts)\n"
   ]
  },
  {
   "cell_type": "code",
   "execution_count": 14,
   "metadata": {
    "_cell_guid": "0374ddff-dc1f-4d9b-82f9-f3eff9c9c4b0",
    "_uuid": "a85f4e771a553ff529b46f25c183d33708055378",
    "collapsed": true,
    "jupyter": {
     "outputs_hidden": true
    }
   },
   "outputs": [],
   "source": [
    "# remover tendência\n",
    "from pandas import Series as Series\n",
    "# diferenciar a série\n",
    "def difference(dataset, interval=1):\n",
    "    diff = list()\n",
    "    for i in range(interval, len(dataset)):\n",
    "        value = dataset[i] - dataset[i - interval]\n",
    "        diff.append(value)\n",
    "    return Series(diff)\n",
    "\n",
    "# invert differenced forecast\n",
    "def inverse_difference(last_ob, value):\n",
    "    return value + last_ob\n",
    "\n"
   ]
  },
  {
   "cell_type": "code",
   "execution_count": 38,
   "metadata": {
    "_cell_guid": "c97fbab1-a301-46bd-95cb-5ba01cdef568",
    "_uuid": "0904a2ab681ac5b3042f5e3d3ba9743955865266"
   },
   "outputs": [],
   "source": [
    "ts=sales.groupby([\"date_block_num\"])[\"item_cnt_day\"].sum()\n",
    "ts.astype('float')\n",
    "plt.figure(figsize=(16,16))\n",
    "plt.subplot(311)\n",
    "plt.title('Original')\n",
    "plt.xlabel('Time')\n",
    "plt.ylabel('Sales')\n",
    "plt.plot(ts)\n",
    "plt.subplot(312)\n",
    "plt.title('After De-trend')\n",
    "plt.xlabel('Time')\n",
    "plt.ylabel('Sales')\n",
    "new_ts=difference(ts)\n",
    "plt.plot(new_ts)\n",
    "plt.plot()\n",
    "\n",
    "plt.subplot(313)\n",
    "plt.title('After De-seasonalization')\n",
    "plt.xlabel('Time')\n",
    "plt.ylabel('Sales')\n",
    "new_ts=difference(ts,12)       # assuming the seasonality is 12 months long\n",
    "plt.plot(new_ts)\n",
    "plt.plot()"
   ]
  },
  {
   "cell_type": "code",
   "execution_count": 39,
   "metadata": {
    "_cell_guid": "9227dec3-bed4-4a12-bc69-563bd68cb3ff",
    "_uuid": "aab34e83d42ceea015ce2f7fe1ace57a115fcd5f"
   },
   "outputs": [],
   "source": [
    "# now testing the stationarity again after de-seasonality\n",
    "test_stationarity(new_ts)"
   ]
  },
  {
   "cell_type": "markdown",
   "metadata": {
    "_cell_guid": "66399279-b53f-4c3b-ad30-68353880a5b0",
    "_uuid": "f6ba95bc505b6de75f94840eb4b1e1ce6ccc90e5"
   },
   "source": [
    "### Now after the transformations, our p-value for the DF test is well within 5 %. Hence we can assume Stationarity of the series\n",
    "\n",
    "We can easily get back the original series using the inverse transform function that we have defined above.\n",
    "\n",
    "Now let's dive into making the forecasts!\n",
    "\n",
    "# AR, MA and ARMA models:\n",
    "TL: DR version of the models:\n",
    "\n",
    "MA - Next value in the series is a function of the average of the previous n number of values\n",
    "AR - The errors(difference in mean) of the next value is a function of the errors in the previous n number of values\n",
    "ARMA - a mixture of both.\n",
    "\n",
    "Now, How do we find out, if our time-series in AR process or MA process?\n",
    "\n",
    "Let's find out!"
   ]
  },
  {
   "cell_type": "code",
   "execution_count": 17,
   "metadata": {
    "_cell_guid": "85e12639-f2c2-4ce1-a57a-fba013e0c64c",
    "_uuid": "30302a2f14d1e9a450672504ed3237e10af33d31",
    "collapsed": true,
    "jupyter": {
     "outputs_hidden": true
    }
   },
   "outputs": [],
   "source": [
    "def tsplot(y, lags=None, figsize=(10, 8), style='bmh',title=''):\n",
    "    if not isinstance(y, pd.Series):\n",
    "        y = pd.Series(y)\n",
    "    with plt.style.context(style):    \n",
    "        fig = plt.figure(figsize=figsize)\n",
    "        #mpl.rcParams['font.family'] = 'Ubuntu Mono'\n",
    "        layout = (3, 2)\n",
    "        ts_ax = plt.subplot2grid(layout, (0, 0), colspan=2)\n",
    "        acf_ax = plt.subplot2grid(layout, (1, 0))\n",
    "        pacf_ax = plt.subplot2grid(layout, (1, 1))\n",
    "        qq_ax = plt.subplot2grid(layout, (2, 0))\n",
    "        pp_ax = plt.subplot2grid(layout, (2, 1))\n",
    "        \n",
    "        y.plot(ax=ts_ax)\n",
    "        ts_ax.set_title(title)\n",
    "        smt.graphics.plot_acf(y, lags=lags, ax=acf_ax, alpha=0.5)\n",
    "        smt.graphics.plot_pacf(y, lags=lags, ax=pacf_ax, alpha=0.5)\n",
    "        sm.qqplot(y, line='s', ax=qq_ax)\n",
    "        qq_ax.set_title('QQ Plot')        \n",
    "        scs.probplot(y, sparams=(y.mean(), y.std()), plot=pp_ax)\n",
    "\n",
    "        plt.tight_layout()\n",
    "    return "
   ]
  },
  {
   "cell_type": "code",
   "execution_count": 18,
   "metadata": {
    "_cell_guid": "98e9a6bf-63af-4de5-bc5b-87a2b53749e6",
    "_uuid": "274f0899031c6c8904cc2fc16278210bf60f44cf"
   },
   "outputs": [],
   "source": [
    "# Simulate an AR(1) process with alpha = 0.6\n",
    "np.random.seed(1)\n",
    "n_samples = int(1000)\n",
    "a = 0.6\n",
    "x = w = np.random.normal(size=n_samples)\n",
    "\n",
    "for t in range(n_samples):\n",
    "    x[t] = a*x[t-1] + w[t]\n",
    "limit=12    \n",
    "_ = tsplot(x, lags=limit,title=\"AR(1)process\")"
   ]
  },
  {
   "cell_type": "markdown",
   "metadata": {
    "_cell_guid": "e737518c-d725-4ed2-a01d-f82986db65af",
    "_uuid": "b3bfab2ac67a745c9aa1c1c495a958383ebd4b45"
   },
   "source": [
    "## AR(1) process -- has ACF tailing out and PACF cutting off at lag=1"
   ]
  },
  {
   "cell_type": "code",
   "execution_count": 19,
   "metadata": {
    "_cell_guid": "c0ae4820-5e6e-4f51-b870-caff9f093a65",
    "_uuid": "bfa6b99d581c1a11248254634fb3932bc0de7a0b"
   },
   "outputs": [],
   "source": [
    "# Simulate an AR(2) process\n",
    "\n",
    "n = int(1000)\n",
    "alphas = np.array([.444, .333])\n",
    "betas = np.array([0.])\n",
    "\n",
    "# Python requires us to specify the zero-lag value which is 1\n",
    "# Also note that the alphas for the AR model must be negated\n",
    "# We also set the betas for the MA equal to 0 for an AR(p) model\n",
    "# For more information see the examples at statsmodels.org\n",
    "ar = np.r_[1, -alphas]\n",
    "ma = np.r_[1, betas]\n",
    "\n",
    "ar2 = smt.arma_generate_sample(ar=ar, ma=ma, nsample=n) \n",
    "_ = tsplot(ar2, lags=12,title=\"AR(2) process\")"
   ]
  },
  {
   "cell_type": "markdown",
   "metadata": {
    "_cell_guid": "789221b6-4c5f-4e22-b740-abd904310050",
    "_uuid": "0e64eb4625e7fed1ea67892cd1ce76f521ed2e43"
   },
   "source": [
    "## AR(2) process -- has ACF tailing out and PACF cutting off at lag=2"
   ]
  },
  {
   "cell_type": "code",
   "execution_count": 20,
   "metadata": {
    "_cell_guid": "d87cb6df-a332-4ac0-bf2d-df690a4a3510",
    "_uuid": "8b6e8e1fb9d5d32e925a3eb5718bbb3fed09c585"
   },
   "outputs": [],
   "source": [
    "# Simulate an MA(1) process\n",
    "n = int(1000)\n",
    "# set the AR(p) alphas equal to 0\n",
    "alphas = np.array([0.])\n",
    "betas = np.array([0.8])\n",
    "# add zero-lag and negate alphas\n",
    "ar = np.r_[1, -alphas]\n",
    "ma = np.r_[1, betas]\n",
    "ma1 = smt.arma_generate_sample(ar=ar, ma=ma, nsample=n) \n",
    "limit=12\n",
    "_ = tsplot(ma1, lags=limit,title=\"MA(1) process\")"
   ]
  },
  {
   "cell_type": "markdown",
   "metadata": {
    "_cell_guid": "8974f547-b74a-4b01-822b-0512bcfbd428",
    "_uuid": "bb9116b36c617672b13e339afd14209c0ea72493"
   },
   "source": [
    "## MA(1) process -- has ACF cut off at lag=1"
   ]
  },
  {
   "cell_type": "code",
   "execution_count": 21,
   "metadata": {
    "_cell_guid": "266ed44d-a2af-40b2-bc70-1f8c92c97cd4",
    "_uuid": "50d9e7da3491a1da9c88d2da1038651e4dd18931"
   },
   "outputs": [],
   "source": [
    "# Simulate MA(2) process with betas 0.6, 0.4\n",
    "n = int(1000)\n",
    "alphas = np.array([0.])\n",
    "betas = np.array([0.6, 0.4])\n",
    "ar = np.r_[1, -alphas]\n",
    "ma = np.r_[1, betas]\n",
    "\n",
    "ma3 = smt.arma_generate_sample(ar=ar, ma=ma, nsample=n)\n",
    "_ = tsplot(ma3, lags=12,title=\"MA(2) process\")"
   ]
  },
  {
   "cell_type": "markdown",
   "metadata": {
    "_cell_guid": "cc105523-c043-41f2-8c33-0e73c2b5eef0",
    "_uuid": "1e3b61a68f1d1840e2d136087ed2daa3991c5e18"
   },
   "source": [
    "## MA(2) process -- has ACF cut off at lag=2"
   ]
  },
  {
   "cell_type": "code",
   "execution_count": 22,
   "metadata": {
    "_cell_guid": "c9c8d060-8572-426f-87d9-e786d82ad205",
    "_uuid": "3bb2c3992a9b0fdbe9bc1a4f1dfcf7153e925c31"
   },
   "outputs": [],
   "source": [
    "# Simulate an ARMA(2, 2) model with alphas=[0.5,-0.25] and betas=[0.5,-0.3]\n",
    "max_lag = 12\n",
    "\n",
    "n = int(5000) # lots of samples to help estimates\n",
    "burn = int(n/10) # number of samples to discard before fit\n",
    "\n",
    "alphas = np.array([0.8, -0.65])\n",
    "betas = np.array([0.5, -0.7])\n",
    "ar = np.r_[1, -alphas]\n",
    "ma = np.r_[1, betas]\n",
    "\n",
    "arma22 = smt.arma_generate_sample(ar=ar, ma=ma, nsample=n, burnin=burn)\n",
    "_ = tsplot(arma22, lags=max_lag,title=\"ARMA(2,2) process\")"
   ]
  },
  {
   "cell_type": "markdown",
   "metadata": {
    "_cell_guid": "50fe1c7f-2524-4fa1-8e30-3f14232b7ac6",
    "_uuid": "8bac724eafd54b4e8c2ec85ccf3f54496a61d525"
   },
   "source": [
    "## Now things get a little hazy. Its not very clear/straight-forward.\n",
    "\n",
    "A nifty summary of the above plots:\n",
    "\n",
    "ACF Shape\t| Indicated Model |\n",
    "-- | -- |\n",
    "Exponential, decaying to zero |\tAutoregressive model. Use the partial autocorrelation plot to identify the order of the autoregressive model |\n",
    "Alternating positive and negative, decaying to zero\tAutoregressive model. |  Use the partial autocorrelation plot to help identify the order. |\n",
    "One or more spikes, rest are essentially zero | Moving average model, order identified by where plot becomes zero. |\n",
    "Decay, starting after a few lags |\tMixed autoregressive and moving average (ARMA) model. | \n",
    "All zero or close to zero | Data are essentially random. |\n",
    "High values at fixed intervals | Include seasonal autoregressive term. |\n",
    "No decay to zero |\tSeries is not stationary |\n",
    "\n",
    "\n",
    "## Let's use a systematic approach to finding the order of AR and MA processes."
   ]
  },
  {
   "cell_type": "code",
   "execution_count": 23,
   "metadata": {
    "_cell_guid": "fce4e806-d217-4b2c-9df6-e38c3d03208b",
    "_uuid": "67306349432a683c926a812bd071915bf5e23e18"
   },
   "outputs": [],
   "source": [
    "# pick best order by aic \n",
    "# smallest aic value wins\n",
    "best_aic = np.inf \n",
    "best_order = None\n",
    "best_mdl = None\n",
    "\n",
    "rng = range(5)\n",
    "for i in rng:\n",
    "    for j in rng:\n",
    "        try:\n",
    "            tmp_mdl = smt.ARMA(arma22, order=(i, j)).fit(method='mle', trend='nc')\n",
    "            tmp_aic = tmp_mdl.aic\n",
    "            if tmp_aic < best_aic:\n",
    "                best_aic = tmp_aic\n",
    "                best_order = (i, j)\n",
    "                best_mdl = tmp_mdl\n",
    "        except: continue\n",
    "\n",
    "\n",
    "print('aic: {:6.5f} | order: {}'.format(best_aic, best_order))\n"
   ]
  },
  {
   "cell_type": "markdown",
   "metadata": {
    "_cell_guid": "f9f28bdd-6b6e-4522-9644-f8d6020d830f",
    "_uuid": "e32468dcd2ea44e9477adc212eb7175875dba33b"
   },
   "source": [
    "## We've correctly identified the order of the simulated process as ARMA(2,2). \n",
    "\n",
    "### Lets use it for the sales time-series.\n"
   ]
  },
  {
   "cell_type": "code",
   "execution_count": 24,
   "metadata": {
    "_cell_guid": "4adcd9c6-63eb-41c2-82f3-4bde0ce556ef",
    "_uuid": "43f731d8b664c9531464d8766f1fc911dd69b2e0"
   },
   "outputs": [],
   "source": [
    "#\n",
    "# pick best order by aic \n",
    "# smallest aic value wins\n",
    "best_aic = np.inf \n",
    "best_order = None\n",
    "best_mdl = None\n",
    "\n",
    "rng = range(5)\n",
    "for i in rng:\n",
    "    for j in rng:\n",
    "        try:\n",
    "            tmp_mdl = smt.ARMA(new_ts.values, order=(i, j)).fit(method='mle', trend='nc')\n",
    "            tmp_aic = tmp_mdl.aic\n",
    "            if tmp_aic < best_aic:\n",
    "                best_aic = tmp_aic\n",
    "                best_order = (i, j)\n",
    "                best_mdl = tmp_mdl\n",
    "        except: continue\n",
    "\n",
    "\n",
    "print('aic: {:6.5f} | order: {}'.format(best_aic, best_order))\n"
   ]
  },
  {
   "cell_type": "code",
   "execution_count": 25,
   "metadata": {
    "_cell_guid": "62dacf92-a612-4342-812f-8936f45c1dce",
    "_uuid": "733861273519695c485dd59e8cb483e0b91802f3",
    "collapsed": true,
    "jupyter": {
     "outputs_hidden": true
    }
   },
   "outputs": [],
   "source": [
    "# Simply use best_mdl.predict() to predict the next values"
   ]
  },
  {
   "cell_type": "code",
   "execution_count": 26,
   "metadata": {
    "_cell_guid": "9f22f870-38b0-44f2-b7cf-90dfc3fefaa6",
    "_uuid": "dd7ffaeba28472d4bc2e8a0b4de8b6613b38b83e"
   },
   "outputs": [],
   "source": [
    "# adding the dates to the Time-series as index\n",
    "ts=sales.groupby([\"date_block_num\"])[\"item_cnt_day\"].sum()\n",
    "ts.index=pd.date_range(start = '2013-01-01',end='2015-10-01', freq = 'MS')\n",
    "ts=ts.reset_index()\n",
    "ts.head()"
   ]
  },
  {
   "cell_type": "markdown",
   "metadata": {
    "_cell_guid": "5cd6369a-20e7-4586-b9ec-5d804ea64528",
    "_uuid": "d8c35e14d08d580907da6ed43e684ab9b89fb6cf"
   },
   "source": [
    "# Prophet: \n",
    "\n",
    "Recently open-sourced by Facebook research. It's a very promising tool, that is often a very handy and quick solution to the frustrating **flatline** :P\n",
    "\n",
    "![FLATLINE](https://i.stack.imgur.com/fWzyX.jpg)\n",
    "\n",
    "Sure, one could argue that with proper pre-processing and carefully tuning the parameters the above graph would not happen. \n",
    "\n",
    "But the truth is that most of us don't either have the patience or the expertise to make it happen.\n",
    "\n",
    "Also, there is the fact that in most practical scenarios- there is often a lot of time-series that needs to be predicted.\n",
    "Eg: This competition. It requires us to predict the next month sales for the **Store - item level combinations** which could be in the thousands.(ie) predict 1000s of parameters!\n",
    "\n",
    "Another neat functionality is that it follows the typical **sklearn** syntax.\n",
    "\n",
    "At its core, the Prophet procedure is an additive regression model with four main components:\n",
    "* A piecewise linear or logistic growth curve trend. Prophet automatically detects changes in trends by selecting changepoints from the data.\n",
    "* A yearly seasonal component modeled using Fourier series.\n",
    "* A weekly seasonal component using dummy variables.\n",
    "* A user-provided list of important holidays.\n",
    "\n",
    "**Resources for learning more about prophet:**\n",
    "* https://www.youtube.com/watch?v=95-HMzxsghY\n",
    "* https://facebook.github.io/prophet/docs/quick_start.html#python-api\n",
    "* https://research.fb.com/prophet-forecasting-at-scale/\n",
    "* https://blog.exploratory.io/is-prophet-better-than-arima-for-forecasting-time-series-fa9ae08a5851"
   ]
  },
  {
   "cell_type": "code",
   "execution_count": 27,
   "metadata": {
    "_cell_guid": "e0f1d568-e74b-4b4d-970f-17ed78ad6c04",
    "_uuid": "5515d79d56f071c77c955be1ef36de528f953306"
   },
   "outputs": [],
   "source": [
    "from fbprophet import Prophet\n",
    "#prophet reqiures a pandas df at the below config \n",
    "# ( date column named as DS and the value column as Y)\n",
    "ts.columns=['ds','y']\n",
    "model = Prophet( yearly_seasonality=True) #instantiate Prophet with only yearly seasonality as our data is monthly \n",
    "model.fit(ts) #fit the model with your dataframe"
   ]
  },
  {
   "cell_type": "code",
   "execution_count": 28,
   "metadata": {
    "_cell_guid": "1dc15d33-ea9c-47b3-9f10-379e8f259606",
    "_uuid": "d9377c6f2e7537cfaebc606049977154a4cce49a"
   },
   "outputs": [],
   "source": [
    "# predict for five months in the furure and MS - month start is the frequency\n",
    "future = model.make_future_dataframe(periods = 5, freq = 'MS')  \n",
    "# now lets make the forecasts\n",
    "forecast = model.predict(future)\n",
    "forecast[['ds', 'yhat', 'yhat_lower', 'yhat_upper']].tail()"
   ]
  },
  {
   "cell_type": "code",
   "execution_count": 29,
   "metadata": {
    "_cell_guid": "c1120a17-8947-42cd-84ee-424f0b60d5d7",
    "_uuid": "695836bdeb4e148f08e3f3349e89bf4345781ca1"
   },
   "outputs": [],
   "source": [
    "model.plot(forecast)"
   ]
  },
  {
   "cell_type": "code",
   "execution_count": 30,
   "metadata": {
    "_cell_guid": "9821912e-76eb-4997-a4cc-cb111998370b",
    "_uuid": "d3ea5a00ce7d8e7f568a0c900cacc59d58c2893e"
   },
   "outputs": [],
   "source": [
    "model.plot_components(forecast)"
   ]
  },
  {
   "cell_type": "markdown",
   "metadata": {
    "_cell_guid": "4d72929a-1363-40b1-9394-9d9bc3cbbfcd",
    "_uuid": "50aff39e479cc20c9898b3a9e008eae2bc2eb713"
   },
   "source": [
    "Awesome. The trend and seasonality from Prophet look similar to the ones that we had earlier using the traditional methods.\n",
    "\n",
    "## UCM:\n",
    "\n",
    "Unobserved Components Model. The intuition here is similar to that of the prophet. The model breaks down the time-series into its components, trend, seasonal, cycle and regresses them and then predicts the next point for the components and then combines them.\n",
    "\n",
    "Unfortunately, I could not find a good package/code that can perform this model in Python :( \n",
    "\n",
    "R version of UCM: https://bicorner.com/2015/12/28/unobserved-component-models-in-r/\n",
    "\n",
    "# Hierarchical time series:\n",
    "\n",
    "The [Forecasting: principles and practice](https://www.otexts.org/fpp/9/4) , is the ultimate reference book for forecasting by Rob J Hyndman.\n",
    "\n",
    "He lays out the fundamentals of dealing with grouped or Hierarchical forecasts. Consider the following simple scenario.\n",
    "\n",
    "![](https://www.otexts.org/sites/default/files/resize/fpp/images/hts1-550x274.png)\n",
    "\n",
    "Hyndman proposes the following methods to estimate the points in this hierarchy. I've tried to simplify the language to make it more intuitve.\n",
    "\n",
    "### Bottom up approach:\n",
    "* Predict all the base level series using any method, and then just aggregate it to the top.\n",
    "* Advantages: Simple , No information is lost due to aggregation.\n",
    "* Dis-advantages: Lower levels can be noisy\n",
    "\n",
    "### Top down approach:\n",
    "* Predict the top level first. (Eg: predict total sales first)\n",
    "* Then calculate **weights** that denote the proportion of the total sales that needs to be given to the base level forecast(Eg:) the contribution of the item's sales to the total sales \n",
    "* There are different ways of arriving at the \"weights\". \n",
    "    * **Average Historical Proportions** - Simple average of the item's contribution to sales in the past months\n",
    "    * **Proportion of historical averages** - Weight is the ratio of average value of bottom series by the average value of total series (Eg: Weight(item1)= mean(item1)/mean(total_sales))\n",
    "    * **Forecasted Proportions** - Predict the proportion in the future using changes in the past proportions\n",
    "* Use these weights to calcuate the base -forecasts and other levels\n",
    "\n",
    "### Middle out:\n",
    "* Use both bottom up and top down together.\n",
    "* Eg: Consider our problem of predicting store-item level forecasts.\n",
    "    * Take the middle level(Stores) and find forecasts for the stores\n",
    "    * Use bottoms up approach to find overall sales\n",
    "    * Dis-integrate store sales using proportions to find the item-level sales using a top-down approach\n",
    "    \n",
    "### Optimal combination approach:\n",
    "* Predict for all the layers independently\n",
    "* Since, all the layers are independent, they might not be consistent with hierarchy\n",
    "    * Eg: Since the items are forecasted independently, the sum of the items sold in the store might not be equal to the forecasted sale of store  or as Hyndman puts it “aggregate consistent”\n",
    "* Then some matrix calculations and adjustments happen to provide ad-hoc adjustments to the forecast to make them consistent with the hierarchy\n",
    "\n",
    "\n",
    "### Enough with the theory. Lets start making forecasts! :P\n",
    "The problem at hand here, has 22170 items and 60 stores . This indicates that there can be around a **million** individual time-series(item-store combinations) that we need to predict!\n",
    "\n",
    "Configuring each of them would be nearly impossible. Let's use Prophet which does it for us.\n",
    "\n",
    "Starting off with the bottoms up approach.\n",
    "\n",
    "There are some other points to consider here: \n",
    "* Not all stores sell all items\n",
    "* What happens when a new product is introduced? \n",
    "* What if a product is removed off the shelves?"
   ]
  },
  {
   "cell_type": "code",
   "execution_count": 31,
   "metadata": {
    "_cell_guid": "f628232b-2b87-4ecf-98a9-df85b8cfa079",
    "_uuid": "c32a2ee89ed90af6aa786af833a27b3b2570117f"
   },
   "outputs": [],
   "source": [
    "total_sales=sales.groupby(['date_block_num'])[\"item_cnt_day\"].sum()\n",
    "dates=pd.date_range(start = '2013-01-01',end='2015-10-01', freq = 'MS')\n",
    "\n",
    "total_sales.index=dates\n",
    "total_sales.head()"
   ]
  },
  {
   "cell_type": "code",
   "execution_count": 32,
   "metadata": {
    "_cell_guid": "8c62a4c2-c482-417c-ba56-b376584706e7",
    "_uuid": "da06ef3cef98055ec146eb21b2ac4cdc580b73c7"
   },
   "outputs": [],
   "source": [
    "# get the unique combinations of item-store from the sales data at monthly level\n",
    "monthly_sales=sales.groupby([\"shop_id\",\"item_id\",\"date_block_num\"])[\"item_cnt_day\"].sum()\n",
    "# arrange it conviniently to perform the hts \n",
    "monthly_sales=monthly_sales.unstack(level=-1).fillna(0)\n",
    "monthly_sales=monthly_sales.T\n",
    "dates=pd.date_range(start = '2013-01-01',end='2015-10-01', freq = 'MS')\n",
    "monthly_sales.index=dates\n",
    "monthly_sales=monthly_sales.reset_index()\n",
    "monthly_sales.head()"
   ]
  },
  {
   "cell_type": "code",
   "execution_count": 33,
   "metadata": {
    "_cell_guid": "ef4ffa1f-170b-421f-9a87-1798cb7ca885",
    "_uuid": "480e0c16e34f95bca30da929861e2c1de14410e4"
   },
   "outputs": [],
   "source": [
    "import time\n",
    "start_time=time.time()\n",
    "\n",
    "# Bottoms up\n",
    "# Calculating the base forecasts using prophet\n",
    "# From HTSprophet pachage -- https://github.com/CollinRooney12/htsprophet/blob/master/htsprophet/hts.py\n",
    "forecastsDict = {}\n",
    "for node in range(len(monthly_sales)):\n",
    "    # take the date-column and the col to be forecasted\n",
    "    nodeToForecast = pd.concat([monthly_sales.iloc[:,0], monthly_sales.iloc[:, node+1]], axis = 1)\n",
    "#     print(nodeToForecast.head())  # just to check\n",
    "# rename for prophet compatability\n",
    "    nodeToForecast = nodeToForecast.rename(columns = {nodeToForecast.columns[0] : 'ds'})\n",
    "    nodeToForecast = nodeToForecast.rename(columns = {nodeToForecast.columns[1] : 'y'})\n",
    "    growth = 'linear'\n",
    "    m = Prophet(growth, yearly_seasonality=True)\n",
    "    m.fit(nodeToForecast)\n",
    "    future = m.make_future_dataframe(periods = 1, freq = 'MS')\n",
    "    forecastsDict[node] = m.predict(future)\n",
    "    if (node== 10):\n",
    "        end_time=time.time()\n",
    "        print(\"forecasting for \",node,\"th node and took\",end_time-start_time,\"s\")\n",
    "        break\n",
    "    "
   ]
  },
  {
   "cell_type": "markdown",
   "metadata": {
    "_cell_guid": "3a0487c9-1e58-4d37-859a-23776598eac2",
    "_uuid": "e60bf72b1fbbf5c11c1a6e6302a8497ecf2c6dd0"
   },
   "source": [
    "~16s for 10 predictions. We need a million predictions. This would not work out.\n",
    "\n",
    "# Middle out:\n",
    "Let's predict for the store level"
   ]
  },
  {
   "cell_type": "code",
   "execution_count": 34,
   "metadata": {
    "_cell_guid": "458386cd-bd4b-41ad-ac59-a2b0135b89fb",
    "_uuid": "0e1e93358ddc83308b5f16910816977750c8ac87"
   },
   "outputs": [],
   "source": [
    "monthly_shop_sales=sales.groupby([\"date_block_num\",\"shop_id\"])[\"item_cnt_day\"].sum()\n",
    "# get the shops to the columns\n",
    "monthly_shop_sales=monthly_shop_sales.unstack(level=1)\n",
    "monthly_shop_sales=monthly_shop_sales.fillna(0)\n",
    "monthly_shop_sales.index=dates\n",
    "monthly_shop_sales=monthly_shop_sales.reset_index()\n",
    "monthly_shop_sales.head()"
   ]
  },
  {
   "cell_type": "code",
   "execution_count": 35,
   "metadata": {
    "_cell_guid": "f812b9fc-a079-4f0f-a19d-5618bf499228",
    "_uuid": "75e7e20609e23bd676cc9781619940a3febf3cab"
   },
   "outputs": [],
   "source": [
    "start_time=time.time()\n",
    "\n",
    "# Calculating the base forecasts using prophet\n",
    "# From HTSprophet pachage -- https://github.com/CollinRooney12/htsprophet/blob/master/htsprophet/hts.py\n",
    "forecastsDict = {}\n",
    "for node in range(len(monthly_shop_sales)):\n",
    "    # take the date-column and the col to be forecasted\n",
    "    nodeToForecast = pd.concat([monthly_shop_sales.iloc[:,0], monthly_shop_sales.iloc[:, node+1]], axis = 1)\n",
    "#     print(nodeToForecast.head())  # just to check\n",
    "# rename for prophet compatability\n",
    "    nodeToForecast = nodeToForecast.rename(columns = {nodeToForecast.columns[0] : 'ds'})\n",
    "    nodeToForecast = nodeToForecast.rename(columns = {nodeToForecast.columns[1] : 'y'})\n",
    "    growth = 'linear'\n",
    "    m = Prophet(growth, yearly_seasonality=True)\n",
    "    m.fit(nodeToForecast)\n",
    "    future = m.make_future_dataframe(periods = 1, freq = 'MS')\n",
    "    forecastsDict[node] = m.predict(future)\n",
    "    "
   ]
  },
  {
   "cell_type": "code",
   "execution_count": 36,
   "metadata": {
    "_cell_guid": "bc342fe1-72cc-46ba-bc52-5bb4fed994fb",
    "_uuid": "cc93cc3b4f09a2e5a0bbaf86cc683f168557e004",
    "collapsed": true,
    "jupyter": {
     "outputs_hidden": true
    }
   },
   "outputs": [],
   "source": [
    "#predictions = np.zeros([len(forecastsDict[0].yhat),1]) \n",
    "nCols = len(list(forecastsDict.keys()))+1\n",
    "for key in range(0, nCols-1):\n",
    "    f1 = np.array(forecastsDict[key].yhat)\n",
    "    f2 = f1[:, np.newaxis]\n",
    "    if key==0:\n",
    "        predictions=f2.copy()\n",
    "       # print(predictions.shape)\n",
    "    else:\n",
    "       predictions = np.concatenate((predictions, f2), axis = 1)"
   ]
  },
  {
   "cell_type": "code",
   "execution_count": 37,
   "metadata": {
    "_cell_guid": "f6f0ea03-3500-4580-8c3a-b024f8f43a6d",
    "_uuid": "689180c42779b32ab3ea7cffd9f2889e84b0ba4e"
   },
   "outputs": [],
   "source": [
    "predictions_unknown=predictions[-1]\n",
    "predictions_unknown"
   ]
  },
  {
   "cell_type": "code",
   "execution_count": null,
   "metadata": {
    "_cell_guid": "574d9966-059c-4c5d-babc-aa6e19e4263f",
    "_uuid": "35e79b17c6fdc31550458ffdebd622ba06ae5296",
    "collapsed": true,
    "jupyter": {
     "outputs_hidden": true
    }
   },
   "outputs": [],
   "source": []
  },
  {
   "cell_type": "markdown",
   "metadata": {
    "_cell_guid": "6ee15e2b-a2a2-453d-b3ab-dfa292d91bc4",
    "_uuid": "c474acb21e3bf7dd4803a5d768283f184d32da5f"
   },
   "source": [
    "## Under construction...........\n",
    "\n",
    "### Unconventional techniques: converting TS into a regression problem\n",
    "\n",
    "### Dealing with Hierarchy\n",
    "### Codes for top down, optimal ,etc\n",
    "\n"
   ]
  },
  {
   "cell_type": "code",
   "execution_count": null,
   "metadata": {
    "_cell_guid": "15a353b8-18c8-4b0b-977c-0b6931448aaa",
    "_uuid": "668928cb0ff4f9a301669621e2b1d060b377c0cf",
    "collapsed": true,
    "jupyter": {
     "outputs_hidden": true
    }
   },
   "outputs": [],
   "source": []
  },
  {
   "cell_type": "code",
   "execution_count": null,
   "metadata": {
    "_cell_guid": "556c78f5-f0bf-49d7-8662-f726284e1638",
    "_uuid": "19124c1ac7d7d4f4143c4ba8c260f8a737687b56",
    "collapsed": true,
    "jupyter": {
     "outputs_hidden": true
    }
   },
   "outputs": [],
   "source": []
  },
  {
   "cell_type": "markdown",
   "metadata": {
    "_cell_guid": "4b521c08-cd33-442b-b639-2163209b3daf",
    "_uuid": "43e42792956ed2c45eb0f650f0e875c73221814f"
   },
   "source": [
    "## Foot-notes:\n",
    "\n",
    "I'm not a stats major, so please do let me know in the comments if you feel that I've left out any important technique or if there was any mistake in the content.\n",
    "\n",
    "I plan to add another kernel about Time-series here which would be about adapting the open-source solutions from the recent time-series competitions ( Favorita, Recruit,etc. ) to this playground dataset.\n",
    "\n",
    "Do leave a comment/upvote :) "
   ]
  }
 ],
 "metadata": {
  "kernelspec": {
   "display_name": "Python 3.9.6 64-bit",
   "language": "python",
   "name": "python3"
  },
  "language_info": {
   "codemirror_mode": {
    "name": "ipython",
    "version": 3
   },
   "file_extension": ".py",
   "mimetype": "text/x-python",
   "name": "python",
   "nbconvert_exporter": "python",
   "pygments_lexer": "ipython3",
   "version": "3.9.6"
  },
  "vscode": {
   "interpreter": {
    "hash": "aa6e5085a42b18246a58b16bee9592a33840e01d8769fe55ee168eba0534c9c5"
   }
  }
 },
 "nbformat": 4,
 "nbformat_minor": 4
}
